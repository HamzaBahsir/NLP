{
  "nbformat": 4,
  "nbformat_minor": 0,
  "metadata": {
    "colab": {
      "provenance": [],
      "toc_visible": true,
      "include_colab_link": true
    },
    "kernelspec": {
      "name": "python3",
      "display_name": "Python 3"
    },
    "language_info": {
      "name": "python"
    }
  },
  "cells": [
    {
      "cell_type": "markdown",
      "metadata": {
        "id": "view-in-github",
        "colab_type": "text"
      },
      "source": [
        "<a href=\"https://colab.research.google.com/github/HamzaBahsir/NLP/blob/main/Neural_Network_models_In_NLP_ANNs.ipynb\" target=\"_parent\"><img src=\"https://colab.research.google.com/assets/colab-badge.svg\" alt=\"Open In Colab\"/></a>"
      ]
    },
    {
      "cell_type": "markdown",
      "source": [
        "# **Artificial Neural Networks (ANNs)**"
      ],
      "metadata": {
        "id": "Z6WYnt4iUBla"
      }
    },
    {
      "cell_type": "markdown",
      "source": [
        "Artificial Neural Networks (ANNs) are computational models inspired by the structure and function of biological neural networks in the human brain. They consist of interconnected layers of nodes (neurons) that process and transmit information. ANNs are widely used for tasks like classification, regression, and pattern recognition.\n",
        "\n",
        "#### **Key Components of ANNs**:\n",
        "1. **Input Layer**: Receives input data (e.g., features of a dataset).  \n",
        "2. **Hidden Layers**: Intermediate layers that transform inputs using weights, biases, and activation functions.  \n",
        "3. **Output Layer**: Produces the final prediction (e.g., class probabilities or continuous values).  \n",
        "4. **Weights and Biases**: Learnable parameters that define the strength of connections between neurons.  \n",
        "5. **Activation Functions**: Introduce non-linearity (e.g., sigmoid, ReLU) to enable complex learning.  \n",
        "6. **Loss Function**: Measures the difference between predictions and actual values (e.g., Mean Squared Error).  \n",
        "7. **Optimization**: Adjusts weights and biases using gradient descent to minimize the loss.\n",
        "\n",
        "#### **How ANNs Learn**:\n",
        "- **Forward Propagation**: Inputs are passed through the network to compute predictions.  \n",
        "- **Backpropagation**: Errors are propagated backward to update weights and biases.  \n",
        "- **Training**: Repeatedly adjusts parameters to improve prediction accuracy.\n"
      ],
      "metadata": {
        "id": "YLYLdE4YR-zW"
      }
    },
    {
      "cell_type": "markdown",
      "source": [
        "# **Objectives:**\n",
        "We will\n",
        "1. Build a basic feedforward neural network using [NumPy](https://numpy.org/) to understand the core mechanics of ANNs.\n",
        "2. Learn how inputs are processed to generate predictions (forward propagation) and how errors are used to update model parameters (backpropagation).\n",
        "3. Use the sigmoid function to introduce non-linearity and enable the network to learn complex patterns.\n",
        "4. Use gradient descent to minimize the loss function (Mean Squared Error) and improve prediction accuracy.\n",
        "5. Analyze the weights and biases of the hidden and output layers after training.\n",
        "6. Use the trained model to predict outputs for new inputs and evaluate performance.\n",
        "7. Develop a practical understanding of how ANNs work by implementing one from scratch."
      ],
      "metadata": {
        "id": "ISk0j_pAUu1H"
      }
    },
    {
      "cell_type": "markdown",
      "source": [
        "## **Step 1: Create a Synthetic Dataset**\n",
        "\n",
        "- We will use an Example which represents a simple XOR-like classification problem.\n",
        "\n",
        " <div style=\"text-align: left; margin-left: 30%;\">\n",
        "    <img src=\"https://www.build-electronic-circuits.com/wp-content/uploads/2022/09/Truth-table-XOR-gate.png\" width=\"20%\">\n",
        " </div>\n",
        "\n",
        "- **Input (`X`)**:  \n",
        "  A 4x2 matrix representing 4 samples with 2 features each.\n",
        "  Example:  \n",
        "  \n",
        "  \\begin{bmatrix}\n",
        "  0 & 0 \\\\\n",
        "  0 & 1 \\\\\n",
        "  1 & 0 \\\\\n",
        "  1 & 1\n",
        "  \\end{bmatrix}\n",
        "\n",
        "- **Output (`y`)**:  \n",
        "  A 4x1 vector of binary labels (0 or 1).\n",
        "  Example:\n",
        "  \\begin{bmatrix}\n",
        "  0 & 1 & 1 & 0\n",
        "  \\end{bmatrix}\n",
        "  \n"
      ],
      "metadata": {
        "id": "hp7lD3n5SU3J"
      }
    },
    {
      "cell_type": "code",
      "source": [
        "import numpy as np\n",
        "# Step 1: Create a synthetic dataset\n",
        "# Input features (4 samples, 2 features each)\n",
        "X = np.array([[0, 0],\n",
        "              [0, 1],\n",
        "              [1, 0],\n",
        "              [1, 1]])\n",
        "\n",
        "# Output labels (binary classification)\n",
        "y = np.array([[0], [1], [1], [0]])"
      ],
      "metadata": {
        "id": "Es1Q9XnaSECe"
      },
      "execution_count": null,
      "outputs": []
    },
    {
      "cell_type": "code",
      "source": [],
      "metadata": {
        "id": "4GOyUz_AkCA6"
      },
      "execution_count": null,
      "outputs": []
    },
    {
      "cell_type": "markdown",
      "source": [
        "## **Step 2: Initialize Weights and Biases**\n",
        "\n",
        "---\n",
        "### **General Rules for Neural Network Parameter Sizing**\n",
        "\n",
        "#### **1. Weight Matrix Size**  \n",
        "- For a weight matrix connecting layer \\( L-1 \\) (previous) to layer \\( L \\) (current):  \n",
        "  $$ \\text{Weight Matrix Size} = (m, n) \\quad \\text{or} \\quad \\mathbf{W}^{(L)} \\in \\mathbb{R}^{m \\times n} $$  \n",
        "  Where:  \n",
        "  - \\( m \\): Number of neurons in layer \\( L-1 \\) (previous layer).  \n",
        "  - \\( n \\): Number of neurons in layer \\( L \\) (current layer).  \n",
        "\n",
        "- **Example**:  \n",
        " - Input layer (\\( L-1 \\)): 2 neurons → Hidden layer (\\( L \\)): 4 neurons  \n",
        "  $$ \\mathbf{W}^{(1)} = \\begin{bmatrix} w_{11} & w_{12} & w_{13} & w_{14} \\\\ w_{21} & w_{22} & w_{23} & w_{24} \\end{bmatrix} \\quad (\\text{Shape: } 2 \\times 4) $$  \n",
        " - Hidden layer (\\( L-1 \\)): 4 neurons → Output layer (\\( L \\)): 1 neuron  \n",
        "  $$ \\mathbf{W}^{(2)} = \\begin{bmatrix} w_{11} \\\\ w_{21} \\\\ w_{31} \\\\ w_{41} \\end{bmatrix} \\quad (\\text{Shape: } 4 \\times 1) $$  \n",
        "\n",
        "\n",
        "#### **2. Bias Vector Size**  \n",
        "For a layer \\( L \\) with \\( n \\) neurons:  \n",
        "$$ \\text{Bias Vector Size} = (1, n) \\quad \\text{or} \\quad \\mathbf{b}^{(L)} \\in \\mathbb{R}^{1 \\times n} $$  \n",
        "\n",
        "**Example**:  \n",
        "- Hidden layer (\\( L=1 \\)) with 4 neurons:  \n",
        "  $$ \\mathbf{b}^{(1)} = \\begin{bmatrix} b_1 & b_2 & b_3 & b_4 \\end{bmatrix} \\quad (\\text{Shape: } 1 \\times 4) $$  \n",
        "- Output layer (\\( L=2 \\)) with 1 neuron:  \n",
        "  $$ \\mathbf{b}^{(2)} = \\begin{bmatrix} b_1 \\end{bmatrix} \\quad (\\text{Shape: } 1 \\times 1) $$  \n",
        "\n",
        "---\n",
        "- So, keeping in view the above rules, the initialization of our network parameters will be done as follows:\n",
        "  - **Weights (`W1`, `W2`)**:  \n",
        "    - `W1`: Randomly initialized 2x4 matrix connecting the input layer to the hidden layer.  \n",
        "    - `W2`: Randomly initialized 4x1 matrix connecting the hidden layer to the output layer.  \n",
        "    - Initialized using `np.random.randn` to break symmetry and start training.  \n",
        "\n",
        "  - **Biases (`b1`, `b2`)**:  \n",
        "    - `b1`: Zero-initialized 1x4 vector for the hidden layer.  \n",
        "    - `b2`: Zero-initialized 1x1 vector for the output layer.  \n",
        "    - Initialized using `np.zeros`\n",
        "\n",
        "  - **`np.random.seed(42)`**:  \n",
        "    - Sets a random seed for reproducibility (ensures consistent results across runs).\n",
        "\n"
      ],
      "metadata": {
        "id": "zp-Wnt2ZSaJg"
      }
    },
    {
      "cell_type": "code",
      "source": [
        "# Step 2: Initialize weights and biases\n",
        "np.random.seed(42)  # For reproducibility\n",
        "input_size = 2\n",
        "hidden_size = 4\n",
        "output_size = 1\n",
        "\n",
        "# Weights and biases for hidden layer\n",
        "W1 = np.random.randn(input_size, hidden_size)  # 2x4 matrix\n",
        "b1 = np.zeros((1, hidden_size))               # 1x4 vector\n",
        "\n",
        "# Weights and biases for output layer\n",
        "W2 = np.random.randn(hidden_size, output_size)  # 4x1 matrix\n",
        "b2 = np.zeros((1, output_size))                 # 1x1 vector"
      ],
      "metadata": {
        "id": "BW1khpxeSGN2"
      },
      "execution_count": null,
      "outputs": []
    },
    {
      "cell_type": "code",
      "source": [
        "print(\"\\nWeights and Biases of Hidden Layer:\")\n",
        "print(\"Weights (W1):\\n\", W1)\n",
        "print(\"Biases (b1):\\n\", b1)\n",
        "\n",
        "print(\"\\nWeights and Biases of Output Layer:\")\n",
        "print(\"Weights (W2):\\n\", W2)\n",
        "print(\"Biases (b2):\\n\", b2)"
      ],
      "metadata": {
        "colab": {
          "base_uri": "https://localhost:8080/"
        },
        "id": "GlGult6eacwk",
        "outputId": "35ed6ead-1e85-4ba5-d723-56ce1b5ae33f"
      },
      "execution_count": null,
      "outputs": [
        {
          "output_type": "stream",
          "name": "stdout",
          "text": [
            "\n",
            "Weights and Biases of Hidden Layer:\n",
            "Weights (W1):\n",
            " [[ 0.49671415 -0.1382643   0.64768854  1.52302986]\n",
            " [-0.23415337 -0.23413696  1.57921282  0.76743473]]\n",
            "Biases (b1):\n",
            " [[0. 0. 0. 0.]]\n",
            "\n",
            "Weights and Biases of Output Layer:\n",
            "Weights (W2):\n",
            " [[-0.46947439]\n",
            " [ 0.54256004]\n",
            " [-0.46341769]\n",
            " [-0.46572975]]\n",
            "Biases (b2):\n",
            " [[0.]]\n"
          ]
        }
      ]
    },
    {
      "cell_type": "markdown",
      "source": [
        "## **Step 3: Define Activation Functions**\n",
        "\n",
        "- **`sigmoid(x)`**:  \n",
        "  - Computes the sigmoid activation function, which squashes input values between 0 and 1.  \n",
        "  $$ \\sigma(x) = \\frac{1}{1 + e^{-x}} $$\n",
        "  - Used to introduce non-linearity in the hidden and output layers.  \n",
        "\n"
      ],
      "metadata": {
        "id": "6hWdcF_jSPuw"
      }
    },
    {
      "cell_type": "markdown",
      "source": [
        "![image.png](data:image/png;base64,iVBORw0KGgoAAAANSUhEUgAAAeUAAAFDCAIAAACLF4HGAAAgAElEQVR4Ae1dCXxM1/eftrr8taVirX33o0qLohTR0tLSRVHaqi4ILf1Va2lLyWYPQkotiZ2gKBpLrbUlEYmQxJZEElnInsiemXnv/H93Tlxjkkwmk1nemznv4xPvvXOXc7/nvu87c+599yqADkKAECAECAE5IKCQg5KkIyFACBAChAAQX1MnIAQIAUJAHggQX8vDTqQlIUAIEALE19QHCAFCgBCQBwLE1/KwE2lJCBAChADxNfUBQoAQIATkgQDxtTzsRFoSAoQAIUB8TX2AECAECAF5ICADvhYEQUUHIUAIEAK2iIBarTb8XSEDvja8MZSSECAECAEbRkDSfC0IAgAcOXLEzc1t7ty5v0nsmD179rx58ySo2G+//Ua6GddZnJ2dPTw85syZY1x2s+aaM2fO/PnzzVqFcYXPnj3b2dnZ3d199uzZxpVgvlxS1m3OnDkuLi47duwAAFEUDXnNSJqvVSoVAHz88cc1a9YcPHiwo6Pjm5I5+vfvP2DAgPr16/fo0eOtt97q37+/ZFR7k3QzwhYIWteuXRUKxRtvvCE1m7755pt9+/atU6eOEU0zaxbE7ZVXXmncuPHAgQMl+JBKUzdHR8dBgwY1adKkU6dOAIC+aYWULQO+/uSTT6ZOnVphS6ySYMmSJdnZ2VapusJKlyxZkpWVVWEyqySQrG5JSUn169e3CiaGVOri4mJIMsunuXXr1tq1ay1fryE1Slk3Hx+f1157zab4esSIERMmTFCpVEVFRWrJHMXFxf9z/+fOnXv79m21Wq1SqSSjmprrFh0dTboZaBelUqlSqa5everg4JCamio13NRq9f3792fMmGFgcyyWDHELCAhYunSp1B5SKetWVFSkUqmWLVvWtWtXW+NrJycnAMDwiCFvVAukwVHdmTNn3r592/DwkwUUAwCuW3R0NOlmIOb4gzQiIsLBwSEjI0NquAFAbm7ulClTDGyOxZIhbv7+/vPnz5faQypl3ZDNPD09ia8t0VexK/j6+qakpEjt2ea6JScnk24G9gYETcp8XVhYuHnzZgObY7FkOFAWGRl54MAB7itYrHb9FUlZN+Jr/bYjKSGgDwHp87U+7UkmNwSIr61gMXzIrVCxAVWSbgaA9DCJLPhasjYVRZF0e9iZDDgjvjYAJEpCCJSDgCz4uhzd6bb8ECC+lp/NSGPpIEB8LR1b2IMmxNf2YGVqo7kQIL42F7JUblkIEF+XhQrdIwQMQ4D42jCcKJVpECC+Ng2OVIp9IkB8bZ92t1aria+thTzVawsIEF/bghXl0wbia/nYijSVHgLE19KziS1rRHxty9altpkbAeJrcyNM5WsjIGm+FkURt4bAp0JbbzwXRVGtVvO/eBObNGLECAmuH1K6CXRH1ggQX8vafLJTXtJ8bRyaxNfG4Ua5jECA+NoI0CiL0QhIlK8FQRBFMSYmxtnZ+aOPPvLw8NBZPBDXZLl79+7o0aMdHR0nT56cl5eHuYivje4NlLGyCBBfVxYxSl8VBCTK17i2599///3JJ5/07t37jTfe0FnES9AcPXr0+PLLL0NCQvr27fv5559jGuLrqnQIylspBIivKwUXJa4iAhLla+1WrVixon///tp8jQ9JYGBg/fr10dGOi4tzcHDARUqVSiUAUPxaG0M6NxMCxNdmApaKLRMBSfM1bvTg6urq6Oiozdeo9B9//ME3xVEqlU2bNj1z5gwAFBcXI19PnDhRJ4pSJgR0kxAwGgHk62vXrkl2vwKjm2YbGUUR+J60ggD4T0MLoFaX/BNFUKlK/okiu4mXajXLqy0ShJIsgsBEvECsBW/iuXa9JkQS+9uKFSukuF8B8rK7u3uZfL148eK+ffuKD442bdocOnQIAIqKigBg5MiRX3/9dWFhYU5OTkFBQX5+PvI4rsRfUFCAjjnyexVFgiBoF1hUVIQ+Pr4tzCHiPaB0XdoiBBBfdYWFhVxUWFgoEREGvnCHER0NTSsqKCjQLhA7CQJSWFiIjwEAKJVKbVFBQYF+EUqvXr1aq1Yt3F8GO0OZuURRLK9Aw0XFmgM1x1wm7Ml6CjRTJ+d9Un9P5g+UWi3k5xcgUarVkJdXhH1ZpYKiInVubgGysCCAdifX7J70sP8DFAKwXbk1h1pz+eDKeJH6QREqnQJFsUSkUqmM6+S4qWF+fn5OTk5hYeHixYu7detmuDNqof12lUqlIAhubm79+vUTBAEpRhAEpNfy/Gt83saOHfvyyy/Pnj172rRpP//88/Tp0//66y8ENCsry8XFBZ8uANipOVCUkZHh7OzMN8PdsWPHnj17UJSenj537tycnBy83LZt2759+/A8OTnZxcUlNzcXLzdt2rR//348v3fvnouLS35+Pl5u3Ljx77//xvOkpCRnZ2duPx8fn8OHD6MoPj7ezc2Ni9atW3f06FEUxcbGurm58e67Zs2aEydOoCgmJsbV1ZWz0qpVq06dOoWiyMjIefPm4dxHAFi5ciX+FgGAmzdvzp8/nz/zK1euPH/+POa6fv06bteEUk9PT39/fxSFhYUtWrSIb0OzdOnSixcvoujKlSuLFy/WFgUHB6Po8uXLS5Ys4aIlS5aEhoaiKCgoaNmyZVy0cOHCsLAwFAUGBi5fvlxbFBERgaILFy54enqiSBTFBQsW3LhxA0Vnz5718vLiudzd3W/duoWif//99/fff8dztVo9b968qKgovDx58uTq1avxXKlUurm5xcTE4OWxY8fWrVvHRS4uLnfu3EFkdu3a9cwzz+A+xQUFBW5ubgkJCZjy0KFDPj4+eJ6fn+/i4pKUlISXBw8e3LRpExc5Ozvjzj4AsH///i1btqAoJyfHxcUFY30AsGfPnm3btqEoOzvbxcXlfz0TL3fv3u3r68tFc+fOzczMxEtfX9/du3fjeVpamouLC+/k27Zt4508NTXVxcWFd/ItW7bwpyYlJcXZ2TkvLw8L2bRp08GDB/E8KSnJ1dWVd3IfHx8/Pz8UJSQkuLq68p7s7e195MgRFMXHx7u4uPCevHbt2mPHjmnsBdHRMa6u7oWFSvRtV65c/c8/JwWB5YuJiV60yB2ghAG3b18VFvYvFpidHblmjTuAqPkH3t5e58+fVamgoAACAq5PnbogNla8cUMMDYXRoz3nz79w9Cjs3w/OzhFduy5cswY8PcVFi6Bbt+UjRwbMmAFTpsCHH4a1a7dw7FgYPVocORLatVvau3fQkCHw9tvQvXto69Yeb7wBPXuK3btDmzZLXnrpcufO0LEjtGsX3KqVR+vW0KqV2KoVtGixOCjoCmoYFBS0dOlS3icXLVoUHh6OIn9/f96TAWD+/PnXr19H0dmzZ9evX3/lypUZmmP27Nn9+/fHIT3uFmDK8v5aiK/xYVi6dOnbb79dWhV/f3++KfWdO3fKi19z/ipdAt0hBKqIAD4wUt4PrIoNNHd2jDCoVA9DE/prFATIyYG4OLhyBU6dgr17Yf16WLgQZs6ECRNg1Ch4913o0wdefRU6dIDWraFpU3jxRahbF2rXhlq1oE4dqFcPGjaExo2hSRNo3hzatGEk27kzvPYa9OoFAwbAoEHw3nvw4YestC+/hC++gG++AScnmDoVfvoJZsyAWbPAxYVVunAheHjA8uXw+++wejWsWQPe3rBpE2zdCjt2wK5d8OefcOAAoLfGwzL6G6hfimwmuf0bkanT09OPHz8+atSo1q1bHzt2DF84q1atmj17Nv7G79q167hx48LCwvr37z9q1Ci8iW44jTfqNzxJTYIA8bXhMGLAF6PDajUL/pZ5iCKkpEBEBBw9yhhw7lwYPx6GDIGePeE//4FGjRjnIu2++CK0bAmdOjGefecdGDmSUfa0aeDmBitXMt7cu5cVcu4cXL4Mt25BfDzcuwcZGYzxCwvZG0J2B5Kb5PgaH4MbN24MHTr0ww8/HD58+NChQ3HbUE9Pz19++QV/UyQkJAwfPrxPnz5OTk45OTkYyia+ll0vlK/CxNf6baftPpdOmZ8PUVFw+DCsWAGTJsHgwfDyy4yR0R1u3JhdOjrCJ58w33bxYua3HjvGyPf2bUhPZyOBVT+0hw35cCIGwflIo+EnfAxT+6TqSvISJMrXXD8jToivjQCNshiHAPF1adw4R+uIBIHx7P/2Q587Fz7+mHFxgwYsRtG4MQtfDBvGog1//AFHjsDVq5CWZqj/q+226xArJ02diRxmncKh02rTXkqar3FhEPWDA58N/FIGURAEAQM6fCQNZxrQ/GvT9hIqrTwEiK8RGT4NTgeo+Hj46y8Wo3B0ZKFkBwcWNe7TByZOZAHf06chMVGfm8yLRSJG/kXyNdOEOR39pXYpab42Dizyr43DjXIZgYCd8zXyqU4gOCaGxY4//xzat2ejfE2bskG8WbPYZIzY2LIx5i45Djzyicxlp7bju8TXdmx8anqVEbBPvi5N07m5cOgQ85r/8x8W4mjThvG1tzc8mF35CNCC8MgHKSaZOPFIBbZ7QXxtu7allpkfAXvja3SEOa6pqbBhAwwdCvXrs2lzQ4awAPSDae48FYtEazvODwV0VkkEiK8rCRglJwS0ELATvkaHmjvCeXmwfTubQvfCC2xG3bffwokToPms+CE0RNAPsTDdGfG16bCkkuwPAZvna1xAgxs2IADGjmXz7Zo0YdGPc+e4hJ2gH13exOpHktKFUQgQXxsFG2UiBDQI2DBfo0+Ndi4sZJ8Rvvoq1KwJ778PBw8+MtkOXWnufVPXMB8CxNfmw5ZKtn0EbJKvtZk6JYVN7XjxRfbptosLPFgWhVlWpWLfKBJNW7KXE19bEm2qy9YQsDG+1mbqxET4/ns2Y7prV/ZhIZ+0h5Ogiaat0pWJr60CO1VqIwjYEl9zRk5Phx9+gBo1oHdvtv4GP1Qq8qY5GNY5Ib62Du6yq1UUBDUNJJUym23wNX4xiCGOefOYT92tG/zzT0lrdSaHlMKAblgOAeJry2Et25pEWpO2PNvZAF/zVZP27YNWrdj8vAcLZbPwNHe6y0OA7lsSAeJrS6Itv7oEQS1qtE6Ou3X05Fl2SpFLLTPKmq+5Wx0fz1Z8fuEFWLCgZJlT7UC2VnPp1MoIEF9b2QBSrh6ZGsTizWs8mtSr2fuDrxldCzJcNthsKMuXr7nj7OkJzz4LH3zAll7Cg4vMBhsVbCQCxNdGAmfz2TSLiasvHN/fr3ePpk0aKhSK98ZOJb7Wsbsc+Zr7znFx0LcvW9R0796SZtGIoo59pXZJfC01i0hEH4x6FE348pMVm/cX5d5tUP1xx5HfEV/rmEd2fM3HjDdvhuefh+HDISuLtQn3AtdpHV1KDQHia6lZRJL6FKY1c3ii34hJxNc65pEXX+PQolLJ9iSsXh0ebNtLg4o6VpXuJfG1dG0jBc1wRwgxN7lpLeLrMgwiI75Gso6Ohnbt2N4u0dGsORQAKcOoEr5FfC1h40hANdz4GPJSiK/LtIYs+JoHrP38mFs9blxJU/hMvjKbRjcliADxtQSNIiGViK/1G0P6fI3bGwLAwoXw+ONsFy4W1BLL3Z5cf3tJal0EiK+ti7/Uaye+1m8hifM1H10cP5551mc1E+gpBqLfplKWEl9L2TrW100zq08UcpObOTzRd/hEttmxWmV9tSSjgZT5GslapWIbCzRsWBKwViolgx0pUnkEiK8rj5kd5ihKb1j98bc//8kOm66/yZLla/zmJT+frQTyyiuQnc3aQQFr/daUvpT42lAblUQGyknOHE/+47OcNJpZrmr95ZSf1TqSgvy8u0nxezeuVCgUdVp0vRAclpaWrlIL1tFGerVKk6+RrDMz2e63ffsC+tT01aL0uk+lNSK+rjRkpTPw5ZAM5GJDmL10LRa+g406sXdr/75vtGvbuk3bti1btujwcqdB738Wmci8NYEWEgGQIF8jL6enQ7NmbFUQPAzwJSzcv6g6YxAgvjYINVEUCgsLBaFkRQ3tPMhrly9fHj58+IkTJxiRlXo48M6yZcvGjx+fkZFRZhrtMqVzriouys3LU6pUSqVSpVIXFxXl5Oaqy8JBOjpbUhOp8TX3rJs1Yxt30VQQS3YGC9RFfF0ByEjH6+b/0q5T75T7xZoH4CFr4+P6+++/t2zZcvv27QUFBWW62Dhql5aWNmfOnFatWvn7+8uIsisAyL7FkuJr9BOys9maqEOGMMPwFfjs20q203ria/22FJUqtSCKH/V9qW6bXkqBLU/HwwD4rO7du/fpp5++du3aw4JEURQE5Gj+l0tXrVpVq1atxMRETSoZBIJ5E/gJbwudSIevcSvFwkJo355NCCGytsnOSXxdrlkFNTs04rzGNZ/66uelAFBcXIQZkLwKCgrq1Knj5uamETHvW88hiqJSM/TTv3//oUOHludiI4/jAGaZf/kLQ09dJLIMAhLha74FTK9e0KNHyecw1E8s0wcsWQvxddlo43MIALcjr+3b+vtjCsWEaQszcvI1qVk8BKl848aN1apVS01N1XaWiwoL7t29GxcbGx0dFX07Jjn53t2794qUjPpVKpUgCPv371coFLGxseVRdtk60V3pISAFvhbFkol6778PbdtCQQF9vii9jmIijYivywASH8KA04fe6tuzW8/XO7Vp8dgTz/Tq3atRoyZuHqtVIohiyRZZAwcO7NmzJw9qqzT++OYVv1Wv/n993xzw3tAPPhjydoN6tRu36Xw7+T5n+eTk5GrVqq1atQoZnGuAse+7iXHBwcGXL18OKesIDgnJuM9eG+V5TxW652X67Fa8yZsvxxMp8DXOqp4yBWrXBs1gNq23J8euZJDOxNe6MOETeGzHqscUivc++S4rTznz6/erN2wvAvwx9zuFQrHgjz1I0Eqlsl69euPGjeP0rZk4Ibz92n/e/OirrNwCAHHqhJEKhWLtbrZ3qaAJauNJkyZNxowZwxkclVCpmA/uOtPpiSeeePbZ6k/rHs9U/79nqj351O4TlzUZZRD71gXX5q6tztdI1itWsLVBbt1i+JbE8GwOamoQd+88PT27du1q+K9zhZSxw1fQiBEjnJyceAsNVFjUDLGnxITXfEoxcORkTS5V1xZ1Xh/KtsICMa9jwxptur+NUe3MrKxq1arNmTPnEdoVVQf+2p+Yxlzgpb8wfp+zbLs2suhEv/LKK46OjtwxR/XQZU65m3j1ati1co6w8PDsXH3+dUJCwtWrVyMiIsKlfaCG169fR3sZaCCpJbMuXyM1HzoECgVoppLSF4xS6yAm1of860cAxYCG528TFYonL4THgyhk371ZvZpi2oL1mgHGovdea1K3/esFmhl9aenpTzzxxIIFC8p8K+zbsEyhUHwzzYWxuUrF5wDiE96zZ88ePXro8PUjqlT+AkPqn376qUI+R/Xq1e/du2daHCqPnPE5rMjXOHsvOpqR9dq1rAn0ubnxhpRJTuLrRwyFX4J8/m73p+u1TcllW4MH/uOrUCh2HQ8RBUFdkN66bvVOfT/APFll+ddqzUNz4eifCoWi//BvS08Z0eNfY+2H/truNHHi999/P7nUMWXK5EnfTg6+Gc8c9lIBbCw5Njb20qVLZYW+JXcvODg4NDQU58w8Ygb5XFiLr3FB1IICaNQIND8jSz46lw9ypKkxCBBfP4IaMuang197um6b9Hw2qOj12yTFky/cSGKb3J36c51CofhVE98QRVGlUtWvX/+rr77i8WtB8wM1JuxMrWqK9t3ezMhVgaiKiozWzA1hFSGlqtXqhg0bjh079pFACos8spC0t9eC117r7ujYr0+po1/fPj1e73086KZ2gOWRBtCFZRGwFl+jKz1oEFvOCT3rUq9vywJBtVkEAeLrR2DGeMia+T8pFIqtRy4BwEdvtG/Xk33Yezf6SqOaT7Tp/EZGvkoUBUw5aNAgDPzz+XzZqXc6t2nwUq93cjQLV57Y5dWuc98CtgQp42p8vBMTEx9//PE1a9aUGUh5RKHKX+AOXjjfQ635jtyKcz90qlapVMXFxUrNgScISOVbKZUcVuFrJGs3N3juOTYhhDYfkEpvML8exNePYCyyzxfF/PspQ9/qUa1G3flLljWp9X8v9/5gnvMv9Wo91/3ND6ISUzS+bcl8vi1btjz++OP37t3TEJOYl57Yo/WLCoVi3E+/bfTxdnee/YxC8eaIiSyLxvVWq9n6fLt371YoFHfu3CnTTa5wQt4jGpd/8eBjn/JTlJJovhCiaSelcCn/huX5GscYz5xhYevz55lmeKd8HUliOwgQX+vaEkMWoC7ct3Pjx+8NUDz22MAPRv04bcb+o//imCEmwO8bCwsL69Wr9+uvv6KnnJkcO2fWLFdX199m/zpjxozp06b9/OvskwFhSPH8+8YePXoMGzasTLLW1cbIaxFXZFLmZ8/874R5v281Z12PqCiK+Fmohvkf/OETGZNirm/dvNHHx2e77649e3b/c/IMyyznX/IW5mtcDyQzk3nWmnFuGmN8pPvZ/AXxdRkm1sSjmZt59q91CsUT4QnsUxfNobV6yINPHP38/J566qmgoKAHaSr4f+HChbVr17579y4yfgWpjRA/oL/Na5a2alxXoVB86+ylEygvXSpm2r5u5cZdf2ko1AAvm62SwtjZkJgGhubHD+3TsE2XlavXjh81VKFQTHNnESFBzqtpW5Kv+XeM/frBgAHMhjQhpHRPtu07xNdl21elYkQ09Ysh/1e7VUa+SnOoHzDhwyz4uG7YsKFFixbe3t65uTkYnMUM+Be9S0EQEhMTp0+f3rZt2+DgYDM5vCWrmmTfGzbojd4D35/+3/FPPPHED/PYbC/94REcaHVs2+i1QR9rOLSCTb8EAeegl0DB3z13om6cOHHi9OnTp/A4ffrkyROBly5rUqvWrFwSm1ZckHy7RZ0aX/3A5q0zcB7CKb8zS/I1srOHB3Ous7Np7T359Zaqa0x8XSaGmniCUNyzbb3Ob7OvEMVH6Uk7D/Lg9evXP/vss1OnTpVJxPhUe3l5TZ06NTc3t8w02mVW4ZyxX3F+5p6/mJtceDdcoVBMdv3DQL7+sMfLAz/5skK+xuYAQHDg+cNH/4m8Hafx9Rgnr1s4u02bNh06dGinOdq3b9+2TZvBwz8rAhA1Gz/mJN9oUvPx/h+z749EoYxXYBXaboWsFuNrnG0dHs7C1seOsZZS2NoK9rZ2lcTX5VtAVIUEBd6KS2IpSrvWWvn0u65aCUtOOd+VFpnyjigkRPjr52tREFSanxJFxUqVSjWka/v+H49RqdXFxUVqNft5UHqWNyofcs6v+ysd3v1wxIh33/q/52pu2HsSXwllDpYy71vDNznp8e0a1ez45ieM35VKdOpN2WSLl2UZvsbl91QqaN4cJmu+uqVIiMVNLYkKia9NYwacuFZhWTg/pMJkVU4gKpXFIsDdG4H6+Vqnoo96vPzOp+N1bmpfIj2F/ruv+mOK0VPmaoLc+fWef2LgaMYierZOF0SxMDutf/eXXnljmAhw+/LJYZ99Xcjyl4zvatcio3PL8DWy8+TJ0KIFc6vVav3+g4zwI1UrhwDxtT68cJaevhRSlWF8WQ9fI9GEhwYs9Vjq5eW1YsXK371WtG9cu2Wn7l6//77C09PLy2vp0mUh12MeRm80UWqhOPfVprU79NZsNgVw9cJhNnK4cJ3Gvy6ZZ47hbP4X9+f9zYktffX+qK+mT53SvGGdQZ/9qJ/ipQrtI3pZgK8x7nH+PIuEXL3KaqdIyCM2sKcL4mvbtHaFfI0xnJ0blzdu3LhVq1bNmzdv1arlU09Ve7r6c61atWaXLVs2btxk3b7TGOjg3Bpygk0eH/7NtD07t00a97lDjecch36alqtEdi4TTRxRjLkdee3ataCLAefOnw8OuZyWlSN77/rBXp0REREODg64M6dpfy9gJKS4GOrXh9mzGboUCSmzj9nJTeJr2zT0I3ztUvF4I87SeLdbh7dGsPHGMsdXcbnXpbO+fezxJ0eNGf/D1B9m/jLr2Gm2F2VFEX7bBJn/8jAfXyM7T5oEbdqwGAhFQmy2JxnWMOJrw3CSWyqVio0fJl5j441T3Nao2Yfgmg/ky2kI8vX73Tq8OfyLcvlaM1H6x2/ef+zZBtla87PVKuZcl1Pww9ua6doPP1A3JMvDzFI9M2s8BOMe/v4sEhLGPrpic/josGcEiK9t2fqxl/6pVq3ady4suFzegXEMDDG/373jWyM0q1BpKFiHUtG/XvjLOIXi6aBI9l0+gHr5nB/eGzlWLfdxw/LQqei++fgavWlBgGbNYMYMpgdFQiqyhu3Lia9tzcb4Acq544fnzJ7ZpX0zhULx2P85fPvfH9dt2VOo+QimTE8Yp9a907Fl7/dH8VC1DjSCZrp0/PWLDWo+WbNB87Fffvla55eatX35eECoZsJemQXrlGFrl+bja2TnuXPhxRfZWqkUCbG1rmNUe4ivjYJNwpmQr4/v3/Xrr7+6uLkvWbJk4YL5s379ddEKH+TrMnXHH9qTRn3w9VS2FgquTlU6JXrckVcDZ82c/u1333mu3pBTJP9JeaXbafAdM/G1ILBodWQki4ScZiO+NCfEYJPYdELia5s2byUbp1azz/D1Z9IJkvAxN/25bFVqJr5GI/TsCaNHM+Qqsomtokvt0kWA+FoXEdu4FgTN54la65hUSMSGN1zQfBWJH0aWpm/Dy7GBlObga2TnHTvgqacgM5PWCbGBbmKyJhBfmwxKWyjIztm38iY0OV/j5gN5efD88/AHm4dJznXlrWK7OYivbde21DLzI2Byvkbn+ttvoUMHpj0NM5rfhnKqgfhaTtYiXaWGgGn5Gtn52jU2zKhZc5eca6kZ3Mr6EF9b2QBUvawRMDlfA0CvXvD55wwVGmaUdd8wh/LE1+ZAlcq0FwRMyNfIzvv3Q7VqkJZGw4z20oUq1U7i60rBRYkJgUcQMBVf4zCjSgUNGsDChawK+prxEaDpQoMA8TV1BELAeH0CTcsAACAASURBVARMxdfIzvPmQcOGLAxCw4zGm8SmcxJf27R5qXFmRsAkfI3OdVoaPPkkHDzINKbItZntJtfiia/lajnSWwoImISvkZ2/+Qa6d2dtIrKWgmWlqQPxtTTtQlrJA4Gq87X2UiHBwSWLXMuj8aSlxREgvrY45FShDSFQdb5Gb/rtt+Gjjxgu5FzbUO8wfVOIr02PKZVoPwhUka9xXPHcOXjsMbhzhznXtCOB/XQeI1pKfG0EaJSFEChBoIp8jez8yiswZQorkObwUcfSjwDxtX58SEoI6EOgKnyNoY8DB+Dpp2kdPn0gk4wjQHzNoaATQqDSCFSFr3GksWVLcHZm9ZJzXWn07S8D8bX92ZxabDoEjOZrZOeNG6FmTcjPZ2FrA7YsNp3eVJI8ESC+lqfdSGtpIGAcX+O4olIJ9erBypWsJeRcS8OeUteC+FrqFiL9pIyAcXyN7LxyJVstRKUi51rKFpaWbsTX0rIHaSMvBIzga3SuCwvBwQF8fFhzybmWl9GtqC3xtRXBp6plj4ARfI3svGgRNGlSsmgqRa5l3w8s1QDia0shTfXYIgKV5WtRZOOKeXlQowZs384QoQ8abbFfmKtNxNfmQpbKtQcEKsvX6Fy7uECrVvQ1oz10EBO3kfjaxIBScXaFQKX4Gp3rnBx47jnYs4fhRM61XfWWqjeW+LrqGFIJ9otApfiaO9dt2jDEaKkQ++03xrac+NpY5CgfIcA4VwCAiIgIBweHjIwMABDLGT1E5zo3F55/vsS5pmkh1IMqiwDxdWURo/SEwEMEDOdrZGdnZ2jdmmUn5/ohiHRmMALE1wZDRQkJgVIIGMjXPHL9/PPw55+sFIpcl8KSblSMAPF1xRhRCkKgPAQM5Gt0rt3cyLkuD0i6bxACxNcGwUSJCIEyETCEr9G5zs+HF14AX19WDEWuywSTblaIAPF1hRBRAkKgXAQM4Wtk58WLoVmzkg8ayy2OBISAXgSIr/XCQ0JCQC8CFfI1Ote4WsimTawsilzrRZSE+hAgvtaHDskIAf0IVMjX6FyvWAGNGjGmpmkh+vEkqX4EiK/140NSQkAfAvr5Gp1rpRLq14c1a1g5FLnWhybJKkKA+LoihEhOCJSPgH6+Rnb29mb7EhQXswVDyvmYpvwKSEIIaCFAfK0FBp0SApVEQD9f41LXzZrB0qWsXHKuK4kuJddFgPhaFxG6JgQMR0APX+O44s6dbBpffj4514aDSinLRYD4ulxoSEAIVIiAHr7GocV27Wj78wpRpASGIkB8bShSlI4QKI1AeXyNzrWfHzz7LGRnk3NdGjm6YwwCxNfGoEZ5CAFEoDy+Rue6Sxf48UeWkCLX1GFMggDxtUlgpELsFIEy+VqtZg71uXPw9NOQnEzOtZ32DXM0m/jaHKhSmfaCQJl8jc61oyN89RXDgT5otJfeYP52El+bH2OqwXYRKM3XKhXbseDKFahWDWJjmXNN3zTarv0t3TIr8LWodZijudikESNGODk5aUKHKnPUQmUSApptB3T3l1GpRAB4/3346COGEDnX1E9MiIDl+FoURbVarbNbkqA5TNgeTtDE16ZFlUorE4HS/rUoirdvM+c6LIyc6zIxo5vGI2Ahvtam6bS0tJiYmLi4uJycHK64dgJ+07gT8q+Nw41yGYFAab4GEL/6Cvr3Z4WRc20EpJRFDwKW4Gvk4qysrPXr10+ZMuVrzfHll1+OGzdu+vTphw8f1qOfESLiayNAoyzGIaDN1+npGaIIycni00/D2bPMuSa+Ng5VylUeAmbnawxWX7lyxc3Nbd++fUlJSdyVViqV169fX7Vq1YoVKzIyMgRB4KLy1DXkPvG1IShRGpMgoM3XKSlsf/SffhJfeYWVTcOMJkGYCtFGwBJ8rVarz507V1RUxCtWP+p4REZGhoeHA0BpvuYBbp0sWJQgCOoHBz45FL/mINOJBRDgfF2rlkN2dkZ+Pjz3nLh/P6v50T5uAV2oCttHwOx8rQ2hWq2+dOlSXFwcACQnJ8fHx3N61U7Gz0vTNxfpOSH/Wg84JDItApyva9RwAMhYvhyaN2fdlpxr0+JMpSECFuJrHuvIyMiYMmXKrVu3cnJyZsyYcfHiRY0nojtvhM+UCg4Ofuedd/r06fPbb7/xeYBcumTJkqFDhw4bNuy9995bsGAB3ie+ps5tMQSQr8PDI2rXdsjMzGjUCNavZ/P56AN0i5nAriqyEF8jKQOAm5vb7t27Dx8+nJqaumPHjqlTp5bpYiM1Z2RkNGjQYOnSpaGhoa1atXJ3d+eJMTzSr18/JyenU6dOHTx4MDQ0FCMqxNd21YOt21jk6ytXItq0cVi8OKNhQyguZv417UtgXbvYau2W5msvL6+1a9cKguDr6+vu7n7v3r0yw9ao1po1a1599VWE/siRI82bN+d+OvL14MGDd+3axW2D8RPiaw4InZgbAe5fN2jg4OCQ4eHBujM51+aG3W7LtxBfo7+MKEdHR4uiWFBQsHz58ps3b3LXW9sGqJaTk9Pnn3+OQ45RUVEvvvgi8jsOMwLAoEGD2rRpM2DAgFGjRmFYXBRFzteTJk0q82WgXRGdEwJVQQD5OjLymkLhULduRk5OGWPmVSmf8hIC2gigS7py5cquXbvysLB2gjLPFWXeLe8m1oG8jP2b37l37x7e0cmLnPv555+PHz8eRQkJCS+++GJ0dDRqiSWcOXMmICDg8uXLo0ePbt26dUFBgSiKSqUSAEaOHPnVV1/l5uZmZmbmaI7CwkIsShCE3NxcXm+h5tAWcfX0iAoKCnQK5LkKCgr4ZBisq7IitVqdm5vLc+Xn5/MCUcThys/PLy4uxkvjRCqVKjc3t8wCdUR5eXmILUal8vLyeC4DRUqlsrxcpUXYBwBAj6i4uFi7wNzcXJ6ruLg4Pz+fa6hfxGcflc7FRUVFRToFqtVq7EVRUVcUilqurmw+n0rFepd2roKCAlRDFEXtjldUVFSeqLCw0DgR75M6dRndk3mBJunJ2o9G6e5axU6u0121Hw2VSqXdT/Ly8vhTU1pkSCcv3Sd5rkqJeHfVyVW6uyqVypycnMzMzNzc3IULF3br1s0sfI2foR8+fDgxMZE/PDon58+fv3Llinb12AwnJ6fPPvtMx7/mjKxTSMOGDY8cOQIAaPWxY8e+/PLLv/322/Tp03/55ZcZM2bsx2lWAFlZWa6urhkZ7OkCgF27du3cuRPPMzMzXVxcsrOz8dLX13fPnj14np6e7uzszL/J3LZt2759+1CUnJzs6urKWW/z5s0HDhxA0b1791xdXflzvnHjRj8/PxQlJSW5uLjw58HHx4d/OhQfH+/u7s5F69at++effzBXbGysu7s77xxr1649ceIEimJiYtzc3DhTrF69+tSpUyiKioqaP38+Xw/Ay8vr7NmzKLp169aCBQv4u2HlypXnz59H0Y0bN3AUF6Wenp4BAQEoCgsLW7x4Mf/5smzZsqCgIBRduXJFW7R06dLg4GAUXb58ecmSJTyXh4cHjjoAwKVLl5YtW8ZFixYtCgsLw1wXL15cvny5tigiIgJF/v7+np6eKBJFccGCBTdu3EDRuXPnvLy8eK558+ZFRkai6N9//121ahWeq9Xq+fPnox8AACdPnly9ejWKlEqlu7t7TEwMXh47dmzdunVc5OrqeufOHfxmYMOG3QrFM4mJWaII+fkF7u7uCQkJmPLQoUM+Pj54np+f7+rqmpSUhJd///335s2bucjZ2Tk5ORkv9+/fv2XLFjzPyclxdXVNTU3Fy717927fvh3Ps7OzXV1d09PT8fLPP//kPTk7O9vZ2TkrKwtFO3fu3L17N56np6e7urryTr59+/a9e/eiKDU11dXVlXfyrVu38qcmJSXF2dmZs96mTZsOHjyIuZKSktzc3Hgn9/HxOXToEIoSEhLc3Nx4T/b29j569CiK4uPjXV1deU9et27dsWPHUBQTEzNv3jwuWr169cmTJ1EUHR09b9487U7+77//oigyMnLevHn8p7yXl9e5c+dQdOPGjYULF3KRp6fnhQsXUBQREbFw4ULeTzw9PQMDA1EUFhamLVq2bNmlS5dQFBoa6oHBL81IxZIlSy5fvoyi4ODgpZr9OvGpWbJkCZIbAAQFBel0cpzHDAABAQErVqzgaixYsOD69etY4NmzZ729va9cuTJjxoyZM2fOnj37zTfffOONN7QJE1OW97cS/jVilJCQsHDhwhUrVgQGBqakpOTk5Ny/f//OnTt+fn6urq5bt24tLCzkDi8fVFy/fn2nTp1QCT8/vxYtWnBaKa2ZDl+PGDFi4sSJpZPRHULAhAio1Wy9p48+uvbEEw65ucwD0NNFTVgvFWXPCJg3HsKRPX78+Jw5c8aPHz9u3LjPPvts4sSJHh4e/DXCk2GnF0UxKyurYcOG8+fPDwwMbNas2fz58/FF9JFm6bP79+8vW7bM398/ODgY4yH5+fnc+8b1nvCSv1d5FXoeKm2R9rnOo0gibQS0z+0HKM2+BMKNG6BQRLzwApvPx7su72kWRqO8erXvW1gl7b6hfU5qVBYNzmaenp5mjF+j387dZ5VKdeXKFR64Kc+rx/RXr14dOnSoo6PjvHnzsM8hO4uiWFRUNH78+LfeeuvNN9/8+uuvMd6iPd5I66nqPKV0aVoENF8wCl98Aa1aRbRu7ZCaSv61aQGm0nQRQNo0O1/zauPj47/55pv3NUdISAhGt7lU50Tn/aMjLX2J6bFJtJ5qaXzojgkREAQ2yTouTqhZEzZtimjWjPjahOhSUWUjYHa+Rg69evXqgQMHrl69+scff0RFRQHA7du3Z82ade/ePT7IXqaCOHVPm9a1z1WazTzQp9b23wGA+LpMPOmmqRDA5UEmTBAGDoSkpIiaNR1wBLuyToap9KFy7AEBs/M1glhcXBwXFxcYGOjq6npAc9y4cSMoKIgPFpsQa/KvTQgmFVUmAvgFY3o6PP204O8P8fHE12XiRDdNjICF+JprfeTIkatXr+bl5QUHBx85cmTWrFmHDx++detW6SFBnqWyJ8TXlUWM0lcWAfyC8ddfoUMHNj8kLCyCfd2omSFK/nVlwaT0hiNgOb4WBEGlUqWlpf3www+HDh0qKCg4dOjQwYMHExMTcfarqTo68bXh5qeURiCAznVeHtSoAbt3C5rddYmvjQCSslQaAcvxNZ++k5SU9PXXXw8cOHDu3Ln8i6ZKK15+BuLr8rEhiQkQQOfawwOaNQMcNYmIIL42AbBURIUIWJSvOWVrz+EzYSQEW0t8XaHVKYHRCKBzrVJB/fqg+dpRd390U/1MNFpDymjDCFiar5Gy8XNSPqPDtPgSX5sWTypNGwF0rjdsgLp1obiY/GttbOjc7AhYga/N3Sbia3MjbM/l47Trli1Bs+YEFBeTf23P3cHSbSe+tjTiVJ98EcA513/9Bc8/D5qlUwHXD6H4tXxtKi/Nia/lZS/S1poI4K6MnTvDjBlMDZWK4iHWNIcd1k18bYdGpyYbg4BmdSf491945hlITWUfowsC8bUxSFIeoxEgvjYaOspoXwigc92nD4wbxxqOsRGaz2dfncDarSW+trYFqH45IIDOdUgIVKsGcXElzjWflkrxaznY0BZ0JL62BStSG8yNAHrTgwfDyJGsKrwkvjY37FS+DgLE1zqA0CUhoIsAzuG7fp051zdvPnSuia91kaJrMyNAfG1mgKl4+SOA3vSIEfDuu6wx3Lkmvpa/bWXWAuJrmRmM1LUwAuhcx8Yy5/ryZeZcE19b2ARUHUeA+JpDQSeEQBkI4AfoX34J/foxKc4S4elofgiHgk4sgADxtQVApirkigA610lJ8OST4O+v61xTPESudpWt3sTXsjUdKW5+BDD04eQEr7/OKtNxromvzW8BquERBIivH4GDLggBjgA618nJ8NRT7LNGncg1JqN4CIeLTiyAAPG1BUCmKmSJADrX338PXbsy/Us71+Rfy9Kuclaa+FrO1iPdzYYAOtfp6Wy1kGPHWDXa00J4teRfcyjoxAIIEF9bAGSqQn4IIDv/+CN07syUL9O5Jv9afnaVucbE1zI3IKlvBgS0neujR1kFZTrXxNdmwJ6K1IcA8bU+dEhmnwjgnOsKnWvia/vsHlZsNfG1FcGnqqWIAO6oi5Hrf/5hGpbnXBNfS9F+Nq0T8bVNm5caV3kEDIxcY8E03lh5gCmH8QgQXxuPHeW0PQQwcp2ayuZc65kWwhtOfM2hoBMLIEB8bQGQqQrZIIDO9Xff6Ztzrd0Y4mttNOjc3AgQX5sbYSpfNgigc52UxJbiO3Om7A8adRpDfK0DCF2aFQHia7PCS4XLCQF0rr/+Gnr1YmqXN+dau0nE19po0Lm5ESC+NjfCVL48EEDn+s4dePxxCAw0yLmm+SHyMK0NaUl8bUPGpKZUAQF0rkeOhLfeYqXgZYXlkX9dIUSUwIQIEF+bEEwqSq4IoHN97RooFBAebqhzTf61XO0tW72Jr2VrOlLcdAigNz1gAIwYwQo10LkmvjadBagkgxAgvjYIJkpkwwio1cyhDghgkeu4OHZuyEgjAkLxEBvuGBJsGvG1BI1CKlkUAfSmu3UDJydWr+HONfnXFrUTVQZAfE29wK4RQHY+eJB90JiWVjnnmvjarruONRpPfG0N1KlOaSCAoQ9BgKZNwdWV6YQr8xmuHcVDDMeKUlYdAeLrqmNIJcgVAWTnVaugdm0oKmJha1GsXFuIryuHF6WuGgLE11XDj3LLFgF0rvPy4PnnYfNm1oxKRa6x3cTXsrW/LBUnvpal2UjpqiOA7DxtGrRrxwozfE6IdtXE19po0Lm5ESC+NjfCVL4UEcDQR1wc+0DmzBmmoRHONY03StG0Nq0T8bVNm5caVw4CyM6DB8N777EUxpE18XU56NJtcyFAfG0uZKlcySKA7Hz6NDz2GNy5U+k5fNrtoniINhp0bm4EiK/NjTCVLy0ERLHEm27dGmbOZLoZ7VyTfy0t09qBNsTXdmBkaqIWAsjOK1ZArVpQUGDMHD6twoD8a2006NzcCBBfmxthKl9CCAgCI+i0NLaDzJ9/MsWq4lyTfy0h09qHKsTX9mFnaqUGAWTnESOgTx92XUWyJr6mbmVhBIivLQw4VWc1BJCdz51jc/iioqo0zMjbQPEQDgWdWAAB4msLgExVWB8BHGYUBGjWDH7+melTdeea/Gvr29XONCC+tjOD22tzcamQuXPhxRdBqWRkXdmlQspEjvzrMmGhm2ZCgPjaTMBSsRJCANk5KopFQk6fZoqZxLkm/1pCNrYPVYiv7cPO9t1KdK5few0+/ZQBUdlFU/WAR/61HnBIZHIEiK9NDikVKC0EkJ1Xr4bq1eH+fTafz7ilncpsFfF1mbDQTTMhQHxtJmCpWEkggOs6xcezSMjevUwlU0VCsHnE15Iws90oQXxtN6a2v4aKYkno4/XXYdgw1n7TkjXFr+2vT1m5xcTXVjYAVW8+BDAS8vvvLBKSnW3iSAiqTf61+cxHJZdGgPi6NCZ0xxYQwCB1dDSLhOzfz1pkcuea/Gtb6CiyagPxtazMRcoahgCPhHToAGPHsjwmnBOirQL519po0Lm5ESC+NjfCVL4VEEB2njGDfR1TXMw8a5N8HVO6JcTXpTGhO+ZDgPjafNhSydZBAOMeZ86wSEhwMNPBHJEQbBvxtXVsbK+1El/bq+VttN04vTozE557DhYsYI00UyQE8SO+ttF+JNFmEV9L1DCklhEI8LB1377w1lusAJXKXJEQVI/42ggzURajESC+Nho6yig5BNCVdnaGmjVN/yljma0lvi4TFrppJgSIr80ELBVraQQwSP3PPyxsHRDAajdf2Jq3jfiaQ0EnFkCA+NoCIFMVZkcAZ1vHxcHjj4OXF6vOrGFr3h7iaw4FnVgAAeJrC4BMVZgXAVFk3y4qldCyJXzxBavLMmRN38uY165UeikEiK9LQUI3ZIUAH2McMgQ6dWKji+abbV0aGPKvS2NCd8yHAPG1+bClki2BgFLJavnxR3jhBbbxOfralqhYUwfxtcWgpoo0PxxVAODp6dm1a1f+865CZBQVprBiAnwFjRgxwsnJibfQivpQ1eZDAMl6zRo2xnjtGqvHAmOM2s0hvtZGg87NjQD51+ZGmMo3FwIYpPbzY2R95AirxWJha94k4msOBZ1YAAHiawuATFWYHgGk5gsXGFmvX8/KtzxZ8x+kERERDg4OGRkZACCaaaUS00NIJcoPAeJr+dmMNEZqvnaNzd7Dj84xMGJ5ZMi/tjzm9lwj8bU9W1+WbccIdVQU24Vg2jTWBKt41ogd8bUs+5BslSa+lq3p7FJxpObbt6FGDfj2WwaBFcma4iF22Qet2Wjia2uiT3VXCgGk5pgYtjyIZu4PI2vrhovJv66UBSlxFREgvq4igJTdQgggWUdEwLPPwsSJrFKrkzX51xayPVXzAAHi6wdI0P8SRgCHE4OC4JlnSmLWlvyIUQ8w5F/rAYdEJkeA+NrkkFKBJkYAydrPDx57DNzcWOESIWvyr01saSquIgSIrytCiOTWQ0AQSr5XXL2azbNeu5apIoUwCIeE/GsOBZ1YAAHiawuATFUYgwD/svynn+Cpp6z2BaN+1Ymv9eNDUtMiQHxtWjypNNMggKOLeXnw9tvQsCGEhbFirTt1r8yGEV+XCQvdNBMCxNdmApaKNRIBXBAVAK5cgaZNoV8/yM5mRUmQrCl+baSNKZuxCBBfG4sc5TMDAjwG8vvvLAby008ldfD7ZqizSkWSf10l+ChzJREgvq4kYJTcPAhwtzozEz76iH2+ePAgq0kQ2D/JHsTXkjWNTSpGfG2TZpVZo7j7fOAA1K8Pjo6QlMSaIM0YiDa4xNfaaNC5uREgvjY3wlS+PgS4+5yeDp99xj6HWb68JD0ncX35rS0jvra2BeyrfuJr+7K3dFrL51YDwIYNUKcOc6sjI5mCnMSlo215mhBfl4cM3TcHAsTX5kCVytSHAA9VA4C/P/ToAbVrg7d3SRbpx0C020Z8rY0GnZsbAeJrcyNM5T9EQNunjo6G0aPhuefYsqhZWSyNjNxq3iTiaw4FnVgAAeJrC4BMVTAu5vHo+Hi2wF6NGjBkCISHl4DDpfICi/haXvaSu7bE13K3oKT1x9AHX6I6OhrGjWNM3bcvnDtXorl0Fm8yAkriayNAoyxGI0B8bTR0lFEfAtoONQBcuAAff8yY2tERTp8uyahWS3putb7mPZARXz9Agv63BALE15ZA2X7qEIRHJk3n5bGBxG7dGFN/8gkEBZUgIcdQdZlGJL4uExa6aSYEiK/NBKwdFYtBD515HefOwVdfQb160KwZzJ4Nd+6UAGIzTI3tIb62o44ugaYSX0vACDJUQRRZKEOlejiKiI0ICYHp06F1a3jhBXj/fdi//2HEwwaiH6UNRXxdGhO6Yz4EiK/Nh62tlVweRxcUwIkTMGkStGrFaNrREVavhuTkh81XqR6y9sO7NnFGfG0TZpRNI2TA14LmKA9RURQFQRD5FAS26IQKAEaMGOGk2UMbL8vLTvf1IMAJukzCDQ+HFSvg3XfZih916rCFqtetK1n3A8tUqyW0cZeeZlZFRHxdFfQob2URkDpf4/PAFxrWaR6XaicgvtZByZBLpGa1moU4Skc5sIT799nniIsXw3vvQZMmUKsWdOoEkyeznV9ych5WgnESrRfoQ5HtnRFf255NpdwiqfM1ANy8eTMS15V4FEj0qe/fvx8aGorNwDvE14/i9PBKFAF5GSfbITXr2Q4xI4MR9OrVbOSwa1c2eFivHnTpwkIfu3dDYuLDknEPXFnPpH6kMQZfEF8bDBUlNAECEuVrUXOo1eoxY8a8+uqrnTt3HjduHADgfe5NHzx4sE2bNv369evYsWNoaCjGRuyQr5GItbmYe8rcX9bv8KrVkJAA58/D+vUwdSq88w60a8eW9ahXD15+mU3FW7qUSe/ff6TPiWKJM66/8Efy2NYF8bVt2VPqrZEoX6Naq1atatGiRVFRUV5eXqNGjTZv3qxZE1mFrH3//v369ev7+vr+z7mbPXv2q6++Kgu+5tyqc4IT3fhfDP7iX+4I8xMurexa/llZcPs2+3pl504W2Zg0CQYPhs6d2R6JyM4dOrA706bB5s1w+XLJXlzavZhPC7Fbjn4UDbaZQkREhIODQ0ZGBroU2gnonBAwIQIS5Wu1ZjmJvn37LlmyBFvr7Oz8zjvvaH53q1Hq5+fXqlUrfEKys7Pr1q0bFRUFAMXFxTjeOGHCBEEQiouLccRSe0xSO/DNfXasqEzRA3dV4IypUomafyUBX5WqRKRhUkGtFjnziqKA1KwpXwAQteynvXWKgSIRQDeXIEB+PqSnizExQmgonDwJe/bAH38Izs7ipEkwfDg4OoodOwpNm7KxQQcHqFtXaNVK7N4dhg2DH38UvbyE48fh1i0oKGA/XbQ0ZHWhE61pOBvZReXx1cgboj3kaz8i/jsvPDxcm691upD2pfZ5aaA4nvpFVenJWIWOGuUVqG1W3lhegvlylW4+r8tuRdhwZLPly5d37dpVxyK885Q+UZS+Zdo7aJ527drt3r0b+XTjxo2vvPIKsjN/yfTq1QularW6RYsWx44dA4CioqL/uTzDhw+fMmWKabUyVWnIgEolKJVspC4jg81+u3sXYmIgIgJCQuDiRbh0CY4dg337YNs22LoVVq0CNzeYORO+/x6++4592z1oEPTuDa+/Dh07sm9SGjZkXNy0KYtgNG4MLVuydUrffpulnDiR5d22Df7+mxWbkFBxO/C1VHE6u0+BxHfz5s3atWujf233kBAAZkdgzZo1Xbp0kRBfY4vbtGmzb98+PN+6devLL7+MfK1UKgHAw8OjT58+yNeCILRu3frw4cOcrz/99NMhQ4acP3/+1KlTZ8+e/ffff9H7xgT+/v6FhYVY8k3NgeeFhYX+87spbgAAFXhJREFU/v7I+ABw48aNmzdvAbBNT775puCbby6MHVv8+edsIdBPPrk+fHjksGHwwQcwZEj+4MH+77xTPGAA9O8PffpE9OoV1b07+w771VfzOnb079hR2aEDtG8PzZuHN2lyu1kzRql16+Y+84x/7doqBwc2H06hCHvyyZj69aFBA3j++RyFIqBBA1Xz5vCf/8Djj1+tXz+2b1/Gv2+9db9t24BJk4Sff4b582HixKsLFsT5+bHlk86dy969OyA9XdS8sCAqKjQnJx7bBZAZGRnIHeerVy8nJCRgUCUlJfP8+UD8mEUUISTkcuKDkcSMjIzAwMAHJUBISEgS7tMFkJaWFsS/Lge4dOnSvXv3MGVqaqqOKPnBZOyUlBQdUUpKCua6d+9ecHAwr+vixYupqal4effuXR1RWloaipKSkkJCQniuwMBATpoJCQmXL1/mooCAgMzMTLyMj48PDQ3Fc1EUAwMDs3BFV4A7d+5wkSAIAQEB2bg9O0BcXNzVq1cxlyAI/v7+9+/fR74+c+ZMjRo1sHylUhkQEJDzYMbM7du3w8LCMJdKpfL398/NzcXL6OjoiIgILrpw4UJ+fj5eRkVFXbt2Dc+Li4v9/f256NatW9evX0dRUVGRv79/geZnEQDcunXrxo0bXHThwoVHe/JNFBUUFGh38uvXr9+6xTo5AOTn5/v7++Mv1P/9SL127Rp/avLz8y9cuICPHoaAoqOjMVdubm5AQAB6UQAQFhZ2+/ZtFOXk5Pj7+2uLYmNjtUXc07969WpcXByKsrOzAwICuCg0NPTOgw9ks7KyAgICuLsdGhoaH1/SyTMzMwMCArAEALh8mXVyvMzIyLh48SIXaffk9PR0bVFwcPDdu3cxZWpqqrZIu5OnpKRcunSJFxgUFMR7cnJyso6I9+R79+5piy5evKinJ6enp2P5CQkJYWFhqampZ86cOX369Pnz5ydPntyjRw8J8TWa6tVXX/X29lapVGq1esWKFb1798YGoLU2b97cqVMnjGgXFhY2bNgQscDeNmbMmNdff33t2rUrV65ctWqVl5fXv//+i9lzcnJ8fHzuPxg7O645UHT//n1vb2/+RB07duzEiVMA4O4OI0dmjxmzfuzY/K++YovMTZhwdOLE05Mnw3//C1OnZvz4o8/Mmfm//gq//QbOzofmzTuzZAl4esKKFelLlvisX1+4aRP4+sLvv/v5+Jw/epSFLI4eTfv9d++goOLwcBaL8PU9eOyYf0oKWww6NjZ58+YN/LE5duyva9dKeFOtvuvntwGAzTEHgLNn/4qOLlmVIysraft2Hx4t+fPPPUFBwRjJiYmJ9/bepFQKOIVj167dly+XENadO3c2bdqEpQHArl27OCvFxsZqi3bu3Bn+YP3T6OjorVu38lw7duzg/BIZGakt2r59OyeRW7dubdu2jefatm0bZ4rr16/v2LGDi7Zs2cLpICIiAkcpULplyxZOB2FhYTt37uS5Nm/ezJ/50NDQ3bt3c9HGjRv5gx0SErJnzx4UCYKwceNG/mBfunRp7969KFKpVBs2bOCvqIsXL/71119c5OPjk5ycjF3x77//rl69OpJ+UVHRhg0b+NN74cKFg7hzMEBhYaGPjw9/RM+dO3fo0CEssLCwcP369fxlc+bMGXQ+kEN9fHz4y+bUqVNHjx7FXLm5ud7e3vyNcuLECfyJCQC5ubnr16/nrw1NTz6BubKzs318fHgnP3r06KlTrJMDQGZmpre3N383HD58mD81mZmZ69ev516On5/f2bNnMVdaWpqPjw8XHTx48Pz58yhKSUnx8fHhPfnAgQOcUpOTk318fDiV//XXX5wck5KSNm7cyEV79+7lNJeYmLhx40ZO5Xv27OEv7Pj4+I0bN3Iq3717N3/1xsbG4ugXarVz507eyW/fvq0t8vX11e7k2qIdO3bwN+WtW7e2b9+OpQHAtm3bbt4seR3euHFDW7R161Y+ve3atWvldfLw8HDtnrxp0yb+YgsNDT1w4EBkZKSX5lizZs2wYcN69eolIb5GU3377bfvv/8+gjJw4MBp06Zh90WHIjo6ukaNGvgyPH36dP369bGfoQswfPjw77//ngMq3xM+rKe94t2DeHpJs9BTxgutWLl8Gy0bzZE4/vcsUTxENjaTv6Lr1q2TVjwEBzru3LnTuHHjKVOmODk5NW/eHD2dKVOmDBkyBDGfOHFix44d3d3dGzVqtFyzUatarUauHzFixIQJE1QqVWFhoUpz8HcyDlpyq+l8P4mDmSjlIg0/iiqVWmu8UeBjjJqBR22RurQIKVVTAnNyNf9YgXxYko2iqktGJgWBiThTM8GDiSCiKGprKB0R92tKa2g+kSAIOmjwuiwjQrvojDeq1eqqq8Etjt1Vu0DDRWV2ch0D8U6OwUZtPPWIpNPxOBo67TJaQw516QLNJ6qwu4qiyNls2bJl0hpvxK4Dmnji7Nmz58yZw4NKgYGBx48f578Ftm7dOm3aNPzxiGhyvqbv0fnjSidmQgDJgubzmQleKlYHASQ3T09PyfE1p2yuMX+58TvaJ1xKfK0NC52bFQHia7PCS4XrICBpvkYnGqMZnI5L/3DAAUneMOJrDgWdmBsB4mtzI0zlayMgdb7W1tXAc+JrA4GiZFVHgPi66hhSCYYjQHxtOFaUkhDQRYD4WhcRujYnAsTX5kSXyrZ1BIivbd3C0mof8bW07EHayAsB4mt52Uvu2hJfy92CpL81ESC+tib69lc38bX92ZxabDoEiK9NhyWVVDECxNcVY0QpCIHyECC+Lg8Zum8OBIivzYEqlWkvCBBf24ulpdFO4mtp2IG0kCcCxNfytJtctSa+lqvlSG8pIEB8LQUr2I8OxNf2Y2tqqekRIL42PaZUYvkIEF+Xjw1JCIGKECC+rgghkpsSAeJrU6JZYVn4eK9evRrX8uaLWFWY0QIJuG64HxjpZgjm0ufrgoICXBrekOZYLA3iFh4evmXLFp316C2mQ3kVSVk34uvyrGaW+7gY/K+//oo7WkmKE7luuBEX6WZID5A+X+fm5v7www+GtMWSaRA3f3//hQsX4pZ+lqxdf12oW0BAgAR1s3G+FkVRqVTinrxS+KtSqURRdHZ2jo2NxQ3qpaAV6sB1i4mJId0MtAtuJYP7y6Snp0sNN1EUc3NzZ86caWBzLJYMcbt48eKyZcuk9pBKWTdkM4nuV6D/NVieFF9Bn3zyyeTJk8tLY9377u7ufLsc62pSunZ3d3e+w2xpqXXvSFa3qKiounXr8m1qrYuSTu3/2yFv1qxZOjclcnnlyhUvLy+JKKOjhpR1W7169Wuvvcb32NLRvPSlovQt6dzhfP3UU0917NixdevWbSRztG7dul27ds8++2zTpk3btm0rGb2YIqSbEeZo3bp127ZtGzdurFAoWrRoITWbtmnTplWrVv/3f/9nRNPMmgU7W8OGDWvUqPGf//xHgg+pZHV76aWXatSoIcX9wIx7B2DgNSQkZNeuXb6+vjukd+zZs2fnzp3S04tpRLoZYZedO3ceOHBAmp3N19d3z549RjTKAll27dr1559/WqAiI6rYuXOnNHXz9fXduXPnmTNnSu+YWB5hStq/Lk9puk8IEAKEgB0iIAO+xm0e1Wq1UqksenDgTo9qyRwqleqBakVKpVIyej1UBNV7eC2BM22DSgS04uJiBEpSHUylUnHFiouLJaUb70fFxcWFhYVS000bOon0MY4Y9v/i4mKc0GXI60cGfI3NkNSkNEOQlVQaWaBndSVx+pekDFemMlYHqrRWElQJlbQxxeTB1wh6YmLib7/9NnHiRG9vb0EQcMZS6a5j4Tu8Q6xfv37ixIk///xzVFSU4QO+FtAWNdy/f//WrVstUJ0hVaBK0dHRS5cunTRp0pw5c3CaDQfTkEJMmwarPnPmzLfffuvq6pqTk2N4VNG0muiUJopiYWHhnj17pk6d+t133/n5+UlEMa4nvucCAwO9vLyKior4faufoGIHDx787rvvfvjhh/Pnz0vkwcTOdvv27V9++WXSpEn4YBrS+WXA18jLqampzZo1+/TTT728vNq1a/f1119LBHpBc3z44YcDBgzw8vKaOnXq8ePHpfOhF/7UCgkJUSgUrVu3tvojhAqgVlOmTBk1atSqVavGjh3buHHjxMREnPVseSVRn7///rtWrVoeHh4ff/xxjx49cIas5ZXRrhEZ5+LFiz179pw/f/7SpUvr16+/YMEC6XQwNFlaWlqjRo0UCkVycrJEXicI3axZszp27Ojp6Tlr1ixvb28pkAb6mnfu3GnQoMG4ceNWrlzZrFkz/BKqwsCI5Pga6U/7r1KpBIA9e/bUr18fu/Lly5efffZZnO1nyEtJ+wEw+hz7pbZigiCgDps2berevbvRJVc9Y5m64XtOrVYXFRUNHjx4+vTpPXr0qHpdlS2hPN0AAC2LBXbp0gVpCCGtbC1VTI/PdpcuXTw9PbGoFi1a7Nq1SyK0WFxczBv4999/N2jQgF9a/QTt9cUXX0yfPr1jx44SWQIBDXrlypUmTZpYHSIdBZCU161b16JFCxQdP37cwcFBJ1mZl5Lj6zK1FEUxNjb2lVde8fPzi42N/emnn0aPHo1EUGZ6C9/88MMPv/vuu2nTpjk6Oi5atEgigRrONdOmTXNxcTl79mzLli0t9noz0AQ4TgsA7dq1Q/fH8nyNmOTk5DRo0CA8PBy/Dv3ss8++/fZb6XxgjVERAPD29m7Xrp1EfFiknh07dnz44Yepqam1a9e2elwLOx72IhcXl3feecfDw6N///7//e9/79+/L4VnE/3riIiITp06nTx5MiYmxsnJafz48Yb4/lLha3xm8vPzr169GhYWdlVz4ElUVBR2Cw8Pj+eee6579+41a9a8ceOGIc0zkDX0J0PdUlNTwzQH1y0sLCwhIQEABgwY8Oyzz65Zs+bw4cNNmjSZM2cO50r9JVddWqFuISEh+AHVwYMH8TmveqUGlqBHN75IFrrY7u7uLVu2LCgosMrjhHomJCTUrVs3NjYWWzd58uRRo0ZJh6/xEUhNTa1Ro8b27dst1sH02BqNlZmZ2aVLl+Tk5LS0tDp16mRmZkrhXYJ8PWPGjCeeeGLWrFnHjx/v3bv3kCFDLEYaenDjOsyePbtmzZpdu3atW7dufHw8v68nr1T4Gn+/REREdOvW7bUHR/fu3bt27frpp58CwMmTJxs3bhwREVFYWLhy5coOHTrk5+db5vHGR2XLli1dunTp2bMnatezZ88uXbosXrwYAHr06DF06FBEed++fc2bN0fFkAj0oF91Eeq2devW0rp5eHio1eouXbp4eXnFxcV5eXm1bNkyPj4eoa561RWWoF83AMCxqc2bN9eoUcOSL2AdzdFMKSkpdevWjY6Oxt9tTk5OY8aMkQhfo8ny8/Nbt249bdo0Qx5snTaa4xLtO2bMmAkTJiQlJR0/frx27dpBQUFFRUUW6Pn6W4R8/eOPPzZu3BhTxsfH16xZE8M1FnsEylQScdu3b1+LFi2ioqIKCgrc3Ny6detmyHiJVPi6zIbhTWzef//73w8++IAnq1OnzpUrV6zecbFbjB49euzYsehWnDlzpmnTptghrN5r8/Pz+2mOPn36tG/fvnr16oMHD87NzZWCB4QQ7d+/v2bNmuHh4VZUCc2kUqmaNGmCH5sBwMCBA52dnaXA16hecXFxt27dJk2axB8Bq5+gYp9++mkfzdG1a9dnnnnmtddeu3nzpkQezJUrV3bq1AmVyczMrFevnhTmbiFpjBkz5quvvkIj5uXl1apVC3/b6X+XyIavfX19a9asie7P2rVra9asmZWVZRn/Ws+DgeAeO3bMwcEhJiZGpVK99957w4YNk8LPVa42+ju+vr4tWrTQ3xt4FnOfoBqHDx9+6qmn/Pz88vPzk5OTCwsLzV1veeXjIzR+/Pj+/furVKqgoKDnnnvOii4/1xOd/dzc3D59+rzzzjsFBQUpKSkYc+BprH6CjuHNmzdr1KghqfHG+Pj4F1544fjx4/8jijlz5rRt2xYHJ6zrSKEDunr16vr16yckJIiiuGjRogYNGhgSD5QBXyMpC4Lw/fffd+jQAV3Fffv2Wf0djs8JUo+Li8tLL73Uq1evAQMGpKSkSGcslKN06NChfv36Wf3ZRgWwy44aNapVq1Zvv/3266+/3qNHj82bN1vrPYd9LCsra9CgQT179mzfvv2aNWs4dFYEDYG6cOFC7dq1+/fv36tXr+7du3/44YcYSrIu73BYUI24uLjOnTunpaVZ8acSV4nbbufOnR06dHjjjTe6dOkSEhLC72untPw5Ljw7bty4jh079unTp0OHDv/8848husmAr7XRTE9Pv3XrFnZiiXRW3jvT0tJw7wJthaVwjkAJgqA9f04KiuFcw+zs7Nzc3JycHO1Za1ZU7/bt21lZWdysVtSEV40zR3MeHHl5eVwkhRPsYKIoFhcXS+ep5BbMz8+PjIxEoCSlHgCkpKRERkZyACu0ppz4Gmkam6R9XmEjLZCA62P1EI0FGmurVWjbjhvUVhtrJ+3StqNEgoEceW19tM95gtIncuJrfGHi7MXSLbH6He2n3erKlKmA1JwLNCjiJh3dpGlHjpI01cP+Jh0javd/SQUntRUzgtBkxtc6raVLQoAQIATsBwHia/uxNbWUECAE5I0A8bW87UfaEwKEgP0gQHxtP7amlhIChIC8ESC+lrf9SHtCgBCwHwSIr+3H1tTSChDgO8/hjk3SnO1QQRtIbNMIEF/btHmpcYQAIWBDCBBf25AxqSnGIoCu9JkzZzZpjm3bth08ePD+/fv8GzljC6Z8hIApESC+NiWaVJZMEcCvy9asWfP555+PHz/+3XffVSgUuLqAgR+eybThpLa8ECC+lpe9SFtLIODo6Ojh4WHI+juW0IbqIAQeIEB8/QAJ+t++EeDLFfXt2/fLL7+01kqB9m0Ean0FCBBfVwAQie0EAYx7jBs3jm8VZCcNp2bKCAHiaxkZi1Q1FwK4ipuLi0uTJk0SExMTEhISExNxEwNzVUnlEgKVR4D4uvKYUQ6bQwDnhwwdOrR79+79+vXrqTni4uIohG1zppZ3g4iv5W0/0t60CCiVyqKiomLNQd/LmBZbKq3qCBBfVx1DKoEQIAQIAUsgQHxtCZSpDrkgoL0tgFx0Jj3tBwHia/uxNbWUECAE5I0A8bW87UfaEwKEgP0gQHxtP7amlhIChIC8ESC+lrf9SHtCgBCwHwSIr+3H1tRSQoAQkDcCxNfyth9pTwgQAvaDAPG1/diaWkoIEALyRoD4Wt72I+0JAULAfhAgvrYfW1NLCQFCQN4I/D9EXcOAqOoS1QAAAABJRU5ErkJggg==)\n",
        "\n",
        "- **`sigmoid_derivative(x)`**:  \n",
        "  - Computes the derivative of the sigmoid function.  \n",
        "  $$ \\sigma'(x) = \\sigma(x) \\cdot (1 - \\sigma(x)) $$\n",
        "  - Used during backpropagation to calculate gradients for weight updates.\n",
        "\n"
      ],
      "metadata": {
        "id": "dhdt8Ca-XnF5"
      }
    },
    {
      "cell_type": "code",
      "source": [
        "# Step 3: Define activation functions\n",
        "def sigmoid(x):\n",
        "    return 1 / (1 + np.exp(-x))\n",
        "\n",
        "def sigmoid_derivative(x):\n",
        "    return x * (1 - x)"
      ],
      "metadata": {
        "id": "3MEUyebcR9lm"
      },
      "execution_count": null,
      "outputs": []
    },
    {
      "cell_type": "markdown",
      "source": [
        "## **Step 4: Training Loop**\n",
        "\n",
        "### **Forward Propagation**:\n",
        "1. **Hidden Layer**:  \n",
        "   - Computes\n",
        "   $$ \\text{hidden_input} = \\mathbf{X} \\cdot \\mathbf{W}^{(1)} + \\mathbf{b}^{(1)} $$  \n",
        "   - Applies sigmoid activation: $$ \\text{hidden_output} = \\sigma(\\text{hidden_input}) $$  \n",
        "\n",
        "2. **Output Layer**:  \n",
        "   - Computes $$ \\text{output_input} = \\text{hidden_output} \\cdot \\mathbf{W2} + \\mathbf{b}^{(2)} $$  \n",
        "   - Applies sigmoid activation: $$ \\text{output} = \\sigma(\\text{output_input}) $$  \n",
        "\n",
        "### **Backpropagation**:\n",
        "1. **Output Layer Error**:  \n",
        "   - Computes $$ \\text{output_error} = y - \\text{output} $$  \n",
        "   - Calculates gradient $$ \\text{output_delta} = \\text{output_error} \\cdot \\sigma'(\\text{output}) $$  \n",
        "\n",
        "2. **Hidden Layer Error**:  \n",
        "   - Propagates error backward: $$ \\text{hidden_error} = \\text{output_delta} \\cdot \\mathbf{(W}^{(1)})^{T} $$\n",
        "   - Calculates gradient $$ \\text{hidden_delta} = \\text{hidden_error} \\cdot \\sigma'(\\text{hidden_output}) $$  \n",
        "\n",
        "3. **Update Weights and Biases**:  \n",
        "   - Updates `W2` and `b2` using the output layer gradient:  \n",
        "     $$ \\mathbf{W}^{(2)} \\leftarrow \\mathbf{W}^{(2)} + (\\text{hidden\\_output}^{T} \\cdot \\text{output\\_delta}) \\cdot \\text{learning\\_rate} $$\n",
        "\n",
        "     $$ \\mathbf{b}^{(2)} \\leftarrow \\mathbf{b}^{(2)} + \\left( \\sum_{i=1}^{N} \\text{output\\_delta}^{(i)} \\right) \\cdot \\text{learning\\_rate} $$\n",
        "\n",
        "   - Updates `W1` and `b1` using the hidden layer gradient:\n",
        "     $$ W1 \\leftarrow W1 + (X^T \\cdot \\text{hidden\\_delta}) \\cdot \\text{learning\\_rate} $$  \n",
        "\n",
        "     $$ b1 \\leftarrow b1 + \\left( \\sum_{i=1}^{N} \\text{hidden\\_delta}^{(i)} \\right) \\cdot \\text{learning\\_rate} $$\n",
        "   - Learning rate (`lr=0.1`) controls the step size during gradient descent.\n",
        "\n",
        "\n",
        "4. **Loss Calculation**:  \n",
        "   - Computes Mean Squared Error (MSE): $$ \\text{loss} = \\frac{1}{N} \\sum (y - \\text{output})^2 $$\n",
        "   - Printed every 1000 epochs to monitor training progress."
      ],
      "metadata": {
        "id": "UkWwOLlCSd8p"
      }
    },
    {
      "cell_type": "code",
      "source": [
        "# Step 4: Training loop\n",
        "learning_rate = 0.1\n",
        "epochs = 10000\n",
        "\n",
        "for epoch in range(epochs):\n",
        "    # Forward propagation\n",
        "    # Hidden layer\n",
        "    hidden_input = np.dot(X, W1) + b1\n",
        "    hidden_output = sigmoid(hidden_input)\n",
        "    # print(\"Hidden output: \", hidden_output)\n",
        "\n",
        "    # Output layer\n",
        "    output_input = np.dot(hidden_output, W2) + b2\n",
        "    # print(\"output_input: \", output_input)\n",
        "    output = sigmoid(output_input)\n",
        "    # print(\"output: \", output)\n",
        "\n",
        "    # Backpropagation\n",
        "    # Output layer error\n",
        "    output_error = y - output\n",
        "    # print(\"output_error: \", output_error)\n",
        "    output_delta = output_error * sigmoid_derivative(output)\n",
        "    # print(\"output_error * sigmoid_derivative(output): \", output_delta)\n",
        "\n",
        "    # Hidden layer error\n",
        "    hidden_error = output_delta.dot(W2.T)    # .T computes the transpose\n",
        "    # print(\"hidden_error: \", hidden_error)\n",
        "    hidden_delta = hidden_error * sigmoid_derivative(hidden_output)\n",
        "    # print(\"hidden_error * sigmoid_derivative(hidden_output): \", hidden_delta)\n",
        "\n",
        "    # Update weights and biases\n",
        "    W2 += hidden_output.T.dot(output_delta) * learning_rate\n",
        "    b2 += np.sum(output_delta, axis=0, keepdims=True) * learning_rate\n",
        "    W1 += X.T.dot(hidden_delta) * learning_rate\n",
        "    b1 += np.sum(hidden_delta, axis=0, keepdims=True) * learning_rate\n",
        "\n",
        "    # Print loss every 1000 epochs\n",
        "    if epoch % 1000 == 0:\n",
        "        loss = np.mean(np.square(y - output))\n",
        "        print(f\"Epoch {epoch}, Loss: {loss}\")"
      ],
      "metadata": {
        "colab": {
          "base_uri": "https://localhost:8080/"
        },
        "id": "BKf4Xc5tSIY_",
        "outputId": "aed60a5c-e02c-44c6-9d3d-2ea5a0beca59"
      },
      "execution_count": null,
      "outputs": [
        {
          "output_type": "stream",
          "name": "stdout",
          "text": [
            "Epoch 0, Loss: 0.27269962695015243\n",
            "Epoch 1000, Loss: 0.24517680677415543\n",
            "Epoch 2000, Loss: 0.2121914679257422\n",
            "Epoch 3000, Loss: 0.1500164652127733\n",
            "Epoch 4000, Loss: 0.05689260155583444\n",
            "Epoch 5000, Loss: 0.020860899763211704\n",
            "Epoch 6000, Loss: 0.010661328409347429\n",
            "Epoch 7000, Loss: 0.00666797856144906\n",
            "Epoch 8000, Loss: 0.004676819608655819\n",
            "Epoch 9000, Loss: 0.0035230597240602456\n"
          ]
        }
      ]
    },
    {
      "cell_type": "markdown",
      "source": [
        "## **Step 5: Inspect Weights and Biases**\n",
        "\n",
        "- **Hidden Layer (`W1`, `b1`)**:  \n",
        "  - `W1`: Learned weights connecting input features to the hidden layer.  \n",
        "  - `b1`: Learned biases for the hidden layer neurons.  \n",
        "\n",
        "- **Output Layer (`W2`, `b2`)**:  \n",
        "  - `W2`: Learned weights connecting hidden layer to the output neuron.  \n",
        "  - `b2`: Learned bias for the output neuron.  \n",
        "\n",
        "These parameters define the trained model’s behavior."
      ],
      "metadata": {
        "id": "aCsVTrwsShWR"
      }
    },
    {
      "cell_type": "code",
      "source": [
        "# Step 5: Inspect weights and biases\n",
        "print(\"\\nWeights and Biases of Hidden Layer:\")\n",
        "print(\"Weights (W1):\\n\", W1)\n",
        "print(\"Biases (b1):\\n\", b1)\n",
        "\n",
        "print(\"\\nWeights and Biases of Output Layer:\")\n",
        "print(\"Weights (W2):\\n\", W2)\n",
        "print(\"Biases (b2):\\n\", b2)"
      ],
      "metadata": {
        "colab": {
          "base_uri": "https://localhost:8080/"
        },
        "id": "Wk7_RW99SLZ_",
        "outputId": "ae449cd0-d47e-4516-f89b-4093ae96ab3b"
      },
      "execution_count": null,
      "outputs": [
        {
          "output_type": "stream",
          "name": "stdout",
          "text": [
            "\n",
            "Weights and Biases of Hidden Layer:\n",
            "Weights (W1):\n",
            " [[ 5.22755803  0.98737756  0.68211489  6.01168822]\n",
            " [-3.1665061  -3.99987946  2.91162331  5.80896286]]\n",
            "Biases (b1):\n",
            " [[ 1.24807889  0.50309079 -2.1493624  -2.05331446]]\n",
            "\n",
            "Weights and Biases of Output Layer:\n",
            "Weights (W2):\n",
            " [[-6.57317657]\n",
            " [ 4.64035978]\n",
            " [-3.9460209 ]\n",
            " [ 8.04555054]]\n",
            "Biases (b2):\n",
            " [[-1.53888967]]\n"
          ]
        }
      ]
    },
    {
      "cell_type": "markdown",
      "source": [
        "## **Step 6: Make Predictions**\n",
        "\n",
        "- **Forward Pass**:  \n",
        "  Recomputes the hidden layer and output layer activations using the trained weights and biases.  \n",
        "- **Output**:  \n",
        "  Returns probabilities between 0 and 1. Values close to 0 → Class 0; close to 1 → Class 1.  \n"
      ],
      "metadata": {
        "id": "NCw8NhXrSjaC"
      }
    },
    {
      "cell_type": "code",
      "execution_count": null,
      "metadata": {
        "colab": {
          "base_uri": "https://localhost:8080/"
        },
        "id": "hlwTuNM17YIV",
        "outputId": "af13601e-1f71-4403-864f-0470bb1e26a0"
      },
      "outputs": [
        {
          "output_type": "stream",
          "name": "stdout",
          "text": [
            "\n",
            "Predictions:\n",
            " [[0.03728262]\n",
            " [0.9491687 ]\n",
            " [0.94483812]\n",
            " [0.06421791]]\n"
          ]
        }
      ],
      "source": [
        "# Step 6: Make predictions\n",
        "hidden_output = sigmoid(np.dot(X, W1) + b1)\n",
        "predictions = sigmoid(np.dot(hidden_output, W2) + b2)\n",
        "print(\"\\nPredictions:\\n\", predictions)"
      ]
    },
    {
      "cell_type": "markdown",
      "source": [
        "## **Key Concepts**\n",
        "\n",
        "1. **Activation Function**: Sigmoid introduces non-linearity for learning complex patterns.  \n",
        "2. **Forward Propagation**: Computes predictions using current weights/biases.  \n",
        "3. **Backpropagation**: Updates weights/biases by propagating errors backward.  \n",
        "4. **Loss Function**: Measures prediction accuracy (MSE used here).  \n",
        "5. **Learning Rate**: Controls the size of weight updates during training."
      ],
      "metadata": {
        "id": "qjENxUoURPvr"
      }
    },
    {
      "cell_type": "markdown",
      "source": [
        "If you want to explore this in further detail, consult this notebook as well: [Detailed Implementation of ANNs](https://github.com/nmarincic/machineintelligence/blob/master/11.%20Building%20a%20Neural%20Network%20using%20Matrices%20-%20Step%20by%20Step.ipynb)"
      ],
      "metadata": {
        "id": "MGD3hx3mlRcg"
      }
    }
  ]
}