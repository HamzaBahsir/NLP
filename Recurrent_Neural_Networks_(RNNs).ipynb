{
  "nbformat": 4,
  "nbformat_minor": 0,
  "metadata": {
    "colab": {
      "provenance": [],
      "gpuType": "T4",
      "include_colab_link": true
    },
    "kernelspec": {
      "name": "python3",
      "display_name": "Python 3"
    },
    "language_info": {
      "name": "python"
    },
    "accelerator": "GPU"
  },
  "cells": [
    {
      "cell_type": "markdown",
      "metadata": {
        "id": "view-in-github",
        "colab_type": "text"
      },
      "source": [
        "<a href=\"https://colab.research.google.com/github/HamzaBahsir/NLP/blob/main/Recurrent_Neural_Networks_(RNNs).ipynb\" target=\"_parent\"><img src=\"https://colab.research.google.com/assets/colab-badge.svg\" alt=\"Open In Colab\"/></a>"
      ]
    },
    {
      "cell_type": "markdown",
      "source": [
        "# **Lab 5b: Recurrent Neural Networks (RNNs)**\n"
      ],
      "metadata": {
        "id": "8brEuIBdqN8A"
      }
    },
    {
      "cell_type": "markdown",
      "source": [
        "Recurrent Neural Networks (RNNs) are widely used in sequence-based tasks such as natural language processing, speech recognition, and time-series forecasting. They are designed to handle sequential data by maintaining a memory of past inputs, which helps in capturing dependencies in sequences."
      ],
      "metadata": {
        "id": "ESvjZChmr4CU"
      }
    },
    {
      "cell_type": "markdown",
      "source": [
        "# **Objectives:**\n",
        "We will implement both a RNN model and apply it to a text-based dataset for time-series forecasting. Main objectives include:\n",
        "* Understand the fundamentals of RNNs.\n",
        "\n",
        "* Learn how to preprocess time-series data for neural networks.\n",
        "\n",
        "* Implement and train RNN model using PyTorch.\n",
        "\n",
        "* Evaluate the Model and plot the predictions.\n"
      ],
      "metadata": {
        "id": "Sto0dwmwscC-"
      }
    },
    {
      "cell_type": "markdown",
      "source": [
        "# **Step 01 - Data Preparation**\n",
        "\n",
        "\n",
        "*   Load the AirPassengers dataset from a URL and parse the date.\n",
        "*   Normalize the dataset\n",
        "\n",
        "\n",
        "\n"
      ],
      "metadata": {
        "id": "TMi1RwRhsu0Q"
      }
    },
    {
      "cell_type": "code",
      "source": [
        "import pandas as pd\n",
        "def load_data():\n",
        "    \"\"\"Loads the AirPassengers dataset.\"\"\"\n",
        "    url = \"https://raw.githubusercontent.com/jbrownlee/Datasets/master/airline-passengers.csv\"\n",
        "    data = pd.read_csv(url, parse_dates=['Month'], index_col='Month')\n",
        "    return data"
      ],
      "metadata": {
        "id": "FbnOjHdwqMLL"
      },
      "execution_count": null,
      "outputs": []
    },
    {
      "cell_type": "code",
      "source": [
        "# Load Data\n",
        "data = load_data()\n",
        "data.head()"
      ],
      "metadata": {
        "id": "gEABkKxEpEEA",
        "colab": {
          "base_uri": "https://localhost:8080/",
          "height": 237
        },
        "outputId": "bde85420-4bd7-47e5-8119-971075dac494"
      },
      "execution_count": null,
      "outputs": [
        {
          "output_type": "execute_result",
          "data": {
            "text/plain": [
              "            Passengers\n",
              "Month                 \n",
              "1949-01-01         112\n",
              "1949-02-01         118\n",
              "1949-03-01         132\n",
              "1949-04-01         129\n",
              "1949-05-01         121"
            ],
            "text/html": [
              "\n",
              "  <div id=\"df-ff0980e8-8404-401c-812b-6b6f697be809\" class=\"colab-df-container\">\n",
              "    <div>\n",
              "<style scoped>\n",
              "    .dataframe tbody tr th:only-of-type {\n",
              "        vertical-align: middle;\n",
              "    }\n",
              "\n",
              "    .dataframe tbody tr th {\n",
              "        vertical-align: top;\n",
              "    }\n",
              "\n",
              "    .dataframe thead th {\n",
              "        text-align: right;\n",
              "    }\n",
              "</style>\n",
              "<table border=\"1\" class=\"dataframe\">\n",
              "  <thead>\n",
              "    <tr style=\"text-align: right;\">\n",
              "      <th></th>\n",
              "      <th>Passengers</th>\n",
              "    </tr>\n",
              "    <tr>\n",
              "      <th>Month</th>\n",
              "      <th></th>\n",
              "    </tr>\n",
              "  </thead>\n",
              "  <tbody>\n",
              "    <tr>\n",
              "      <th>1949-01-01</th>\n",
              "      <td>112</td>\n",
              "    </tr>\n",
              "    <tr>\n",
              "      <th>1949-02-01</th>\n",
              "      <td>118</td>\n",
              "    </tr>\n",
              "    <tr>\n",
              "      <th>1949-03-01</th>\n",
              "      <td>132</td>\n",
              "    </tr>\n",
              "    <tr>\n",
              "      <th>1949-04-01</th>\n",
              "      <td>129</td>\n",
              "    </tr>\n",
              "    <tr>\n",
              "      <th>1949-05-01</th>\n",
              "      <td>121</td>\n",
              "    </tr>\n",
              "  </tbody>\n",
              "</table>\n",
              "</div>\n",
              "    <div class=\"colab-df-buttons\">\n",
              "\n",
              "  <div class=\"colab-df-container\">\n",
              "    <button class=\"colab-df-convert\" onclick=\"convertToInteractive('df-ff0980e8-8404-401c-812b-6b6f697be809')\"\n",
              "            title=\"Convert this dataframe to an interactive table.\"\n",
              "            style=\"display:none;\">\n",
              "\n",
              "  <svg xmlns=\"http://www.w3.org/2000/svg\" height=\"24px\" viewBox=\"0 -960 960 960\">\n",
              "    <path d=\"M120-120v-720h720v720H120Zm60-500h600v-160H180v160Zm220 220h160v-160H400v160Zm0 220h160v-160H400v160ZM180-400h160v-160H180v160Zm440 0h160v-160H620v160ZM180-180h160v-160H180v160Zm440 0h160v-160H620v160Z\"/>\n",
              "  </svg>\n",
              "    </button>\n",
              "\n",
              "  <style>\n",
              "    .colab-df-container {\n",
              "      display:flex;\n",
              "      gap: 12px;\n",
              "    }\n",
              "\n",
              "    .colab-df-convert {\n",
              "      background-color: #E8F0FE;\n",
              "      border: none;\n",
              "      border-radius: 50%;\n",
              "      cursor: pointer;\n",
              "      display: none;\n",
              "      fill: #1967D2;\n",
              "      height: 32px;\n",
              "      padding: 0 0 0 0;\n",
              "      width: 32px;\n",
              "    }\n",
              "\n",
              "    .colab-df-convert:hover {\n",
              "      background-color: #E2EBFA;\n",
              "      box-shadow: 0px 1px 2px rgba(60, 64, 67, 0.3), 0px 1px 3px 1px rgba(60, 64, 67, 0.15);\n",
              "      fill: #174EA6;\n",
              "    }\n",
              "\n",
              "    .colab-df-buttons div {\n",
              "      margin-bottom: 4px;\n",
              "    }\n",
              "\n",
              "    [theme=dark] .colab-df-convert {\n",
              "      background-color: #3B4455;\n",
              "      fill: #D2E3FC;\n",
              "    }\n",
              "\n",
              "    [theme=dark] .colab-df-convert:hover {\n",
              "      background-color: #434B5C;\n",
              "      box-shadow: 0px 1px 3px 1px rgba(0, 0, 0, 0.15);\n",
              "      filter: drop-shadow(0px 1px 2px rgba(0, 0, 0, 0.3));\n",
              "      fill: #FFFFFF;\n",
              "    }\n",
              "  </style>\n",
              "\n",
              "    <script>\n",
              "      const buttonEl =\n",
              "        document.querySelector('#df-ff0980e8-8404-401c-812b-6b6f697be809 button.colab-df-convert');\n",
              "      buttonEl.style.display =\n",
              "        google.colab.kernel.accessAllowed ? 'block' : 'none';\n",
              "\n",
              "      async function convertToInteractive(key) {\n",
              "        const element = document.querySelector('#df-ff0980e8-8404-401c-812b-6b6f697be809');\n",
              "        const dataTable =\n",
              "          await google.colab.kernel.invokeFunction('convertToInteractive',\n",
              "                                                    [key], {});\n",
              "        if (!dataTable) return;\n",
              "\n",
              "        const docLinkHtml = 'Like what you see? Visit the ' +\n",
              "          '<a target=\"_blank\" href=https://colab.research.google.com/notebooks/data_table.ipynb>data table notebook</a>'\n",
              "          + ' to learn more about interactive tables.';\n",
              "        element.innerHTML = '';\n",
              "        dataTable['output_type'] = 'display_data';\n",
              "        await google.colab.output.renderOutput(dataTable, element);\n",
              "        const docLink = document.createElement('div');\n",
              "        docLink.innerHTML = docLinkHtml;\n",
              "        element.appendChild(docLink);\n",
              "      }\n",
              "    </script>\n",
              "  </div>\n",
              "\n",
              "\n",
              "<div id=\"df-3d117e74-7321-49f3-be06-7ff0de867614\">\n",
              "  <button class=\"colab-df-quickchart\" onclick=\"quickchart('df-3d117e74-7321-49f3-be06-7ff0de867614')\"\n",
              "            title=\"Suggest charts\"\n",
              "            style=\"display:none;\">\n",
              "\n",
              "<svg xmlns=\"http://www.w3.org/2000/svg\" height=\"24px\"viewBox=\"0 0 24 24\"\n",
              "     width=\"24px\">\n",
              "    <g>\n",
              "        <path d=\"M19 3H5c-1.1 0-2 .9-2 2v14c0 1.1.9 2 2 2h14c1.1 0 2-.9 2-2V5c0-1.1-.9-2-2-2zM9 17H7v-7h2v7zm4 0h-2V7h2v10zm4 0h-2v-4h2v4z\"/>\n",
              "    </g>\n",
              "</svg>\n",
              "  </button>\n",
              "\n",
              "<style>\n",
              "  .colab-df-quickchart {\n",
              "      --bg-color: #E8F0FE;\n",
              "      --fill-color: #1967D2;\n",
              "      --hover-bg-color: #E2EBFA;\n",
              "      --hover-fill-color: #174EA6;\n",
              "      --disabled-fill-color: #AAA;\n",
              "      --disabled-bg-color: #DDD;\n",
              "  }\n",
              "\n",
              "  [theme=dark] .colab-df-quickchart {\n",
              "      --bg-color: #3B4455;\n",
              "      --fill-color: #D2E3FC;\n",
              "      --hover-bg-color: #434B5C;\n",
              "      --hover-fill-color: #FFFFFF;\n",
              "      --disabled-bg-color: #3B4455;\n",
              "      --disabled-fill-color: #666;\n",
              "  }\n",
              "\n",
              "  .colab-df-quickchart {\n",
              "    background-color: var(--bg-color);\n",
              "    border: none;\n",
              "    border-radius: 50%;\n",
              "    cursor: pointer;\n",
              "    display: none;\n",
              "    fill: var(--fill-color);\n",
              "    height: 32px;\n",
              "    padding: 0;\n",
              "    width: 32px;\n",
              "  }\n",
              "\n",
              "  .colab-df-quickchart:hover {\n",
              "    background-color: var(--hover-bg-color);\n",
              "    box-shadow: 0 1px 2px rgba(60, 64, 67, 0.3), 0 1px 3px 1px rgba(60, 64, 67, 0.15);\n",
              "    fill: var(--button-hover-fill-color);\n",
              "  }\n",
              "\n",
              "  .colab-df-quickchart-complete:disabled,\n",
              "  .colab-df-quickchart-complete:disabled:hover {\n",
              "    background-color: var(--disabled-bg-color);\n",
              "    fill: var(--disabled-fill-color);\n",
              "    box-shadow: none;\n",
              "  }\n",
              "\n",
              "  .colab-df-spinner {\n",
              "    border: 2px solid var(--fill-color);\n",
              "    border-color: transparent;\n",
              "    border-bottom-color: var(--fill-color);\n",
              "    animation:\n",
              "      spin 1s steps(1) infinite;\n",
              "  }\n",
              "\n",
              "  @keyframes spin {\n",
              "    0% {\n",
              "      border-color: transparent;\n",
              "      border-bottom-color: var(--fill-color);\n",
              "      border-left-color: var(--fill-color);\n",
              "    }\n",
              "    20% {\n",
              "      border-color: transparent;\n",
              "      border-left-color: var(--fill-color);\n",
              "      border-top-color: var(--fill-color);\n",
              "    }\n",
              "    30% {\n",
              "      border-color: transparent;\n",
              "      border-left-color: var(--fill-color);\n",
              "      border-top-color: var(--fill-color);\n",
              "      border-right-color: var(--fill-color);\n",
              "    }\n",
              "    40% {\n",
              "      border-color: transparent;\n",
              "      border-right-color: var(--fill-color);\n",
              "      border-top-color: var(--fill-color);\n",
              "    }\n",
              "    60% {\n",
              "      border-color: transparent;\n",
              "      border-right-color: var(--fill-color);\n",
              "    }\n",
              "    80% {\n",
              "      border-color: transparent;\n",
              "      border-right-color: var(--fill-color);\n",
              "      border-bottom-color: var(--fill-color);\n",
              "    }\n",
              "    90% {\n",
              "      border-color: transparent;\n",
              "      border-bottom-color: var(--fill-color);\n",
              "    }\n",
              "  }\n",
              "</style>\n",
              "\n",
              "  <script>\n",
              "    async function quickchart(key) {\n",
              "      const quickchartButtonEl =\n",
              "        document.querySelector('#' + key + ' button');\n",
              "      quickchartButtonEl.disabled = true;  // To prevent multiple clicks.\n",
              "      quickchartButtonEl.classList.add('colab-df-spinner');\n",
              "      try {\n",
              "        const charts = await google.colab.kernel.invokeFunction(\n",
              "            'suggestCharts', [key], {});\n",
              "      } catch (error) {\n",
              "        console.error('Error during call to suggestCharts:', error);\n",
              "      }\n",
              "      quickchartButtonEl.classList.remove('colab-df-spinner');\n",
              "      quickchartButtonEl.classList.add('colab-df-quickchart-complete');\n",
              "    }\n",
              "    (() => {\n",
              "      let quickchartButtonEl =\n",
              "        document.querySelector('#df-3d117e74-7321-49f3-be06-7ff0de867614 button');\n",
              "      quickchartButtonEl.style.display =\n",
              "        google.colab.kernel.accessAllowed ? 'block' : 'none';\n",
              "    })();\n",
              "  </script>\n",
              "</div>\n",
              "\n",
              "    </div>\n",
              "  </div>\n"
            ],
            "application/vnd.google.colaboratory.intrinsic+json": {
              "type": "dataframe",
              "variable_name": "data",
              "summary": "{\n  \"name\": \"data\",\n  \"rows\": 144,\n  \"fields\": [\n    {\n      \"column\": \"Month\",\n      \"properties\": {\n        \"dtype\": \"date\",\n        \"min\": \"1949-01-01 00:00:00\",\n        \"max\": \"1960-12-01 00:00:00\",\n        \"num_unique_values\": 144,\n        \"samples\": [\n          \"1958-10-01 00:00:00\",\n          \"1950-08-01 00:00:00\",\n          \"1955-11-01 00:00:00\"\n        ],\n        \"semantic_type\": \"\",\n        \"description\": \"\"\n      }\n    },\n    {\n      \"column\": \"Passengers\",\n      \"properties\": {\n        \"dtype\": \"number\",\n        \"std\": 119,\n        \"min\": 104,\n        \"max\": 622,\n        \"num_unique_values\": 118,\n        \"samples\": [\n          293,\n          340,\n          121\n        ],\n        \"semantic_type\": \"\",\n        \"description\": \"\"\n      }\n    }\n  ]\n}"
            }
          },
          "metadata": {},
          "execution_count": 2
        }
      ]
    },
    {
      "cell_type": "code",
      "source": [
        "import matplotlib.pyplot as plt\n",
        "\n",
        "# Plot the data\n",
        "plt.figure(figsize=(8, 4))\n",
        "plt.plot(data.index, data['Passengers'], label='Passengers', color='blue')\n",
        "plt.title('AirPassengers Dataset')\n",
        "plt.xlabel('Month')\n",
        "plt.ylabel('Number of Passengers')\n",
        "plt.legend()\n",
        "plt.grid(True)\n",
        "plt.show()\n"
      ],
      "metadata": {
        "colab": {
          "base_uri": "https://localhost:8080/",
          "height": 410
        },
        "id": "-PM6Pworixd5",
        "outputId": "f693e186-ebfa-4a88-dcfc-b30f359ece0b"
      },
      "execution_count": null,
      "outputs": [
        {
          "output_type": "display_data",
          "data": {
            "text/plain": [
              "<Figure size 800x400 with 1 Axes>"
            ],
            "image/png": "[encoded data removed]"
          },
          "metadata": {}
        }
      ]
    },
    {
      "cell_type": "markdown",
      "source": [
        "* NOTE: The plot shows the overall trend in passenger numbers over time.\n",
        "\n"
      ],
      "metadata": {
        "id": "Or-eGBbBjHij"
      }
    },
    {
      "cell_type": "code",
      "source": [
        "# Normalize the Dataset\n",
        "from sklearn.preprocessing import MinMaxScaler\n",
        "def normalize_data(data: pd.DataFrame) -> pd.DataFrame:\n",
        "    \"\"\"\n",
        "   Normalize the dataset between 0 and 1.\n",
        "\n",
        "    Args:\n",
        "        data (pd.DataFrame): The raw time series data.\n",
        "\n",
        "    Returns:\n",
        "        pd.DataFrame: Normalized time series data.\n",
        "    \"\"\"\n",
        "    # Initialize MinMaxScaler()\n",
        "    scaler = MinMaxScaler()\n",
        "\n",
        "    # Apply scaler.fit_transform() to normalize the dataset.\n",
        "    data_scaled = scaler.fit_transform(data.values.reshape(-1, 1))\n",
        "\n",
        "     # Return normalized data and scaler (needed for inverse transformation later)\n",
        "    return data_scaled, scaler\n"
      ],
      "metadata": {
        "id": "Bt7VQ9jCxqDr"
      },
      "execution_count": null,
      "outputs": []
    },
    {
      "cell_type": "code",
      "source": [
        "# Normalize Data\n",
        "normalized_data, scaler = normalize_data(data)"
      ],
      "metadata": {
        "id": "rjpunnwypH67"
      },
      "execution_count": null,
      "outputs": []
    },
    {
      "cell_type": "markdown",
      "source": [
        "* Since neural networks process fixed-length inputs, we need to convert time series data into sequences.\n",
        " Each input `X` consists of the past `seq_length` months, and the output `y` is the next month's value.\n"
      ],
      "metadata": {
        "id": "GzNpzYgq0k2s"
      }
    },
    {
      "cell_type": "code",
      "source": [
        "import numpy as np\n",
        "import torch\n",
        "def create_sequences(data: np.ndarray, seq_length: int):\n",
        "    \"\"\"\n",
        "    Converts time series data into sequences for training.\n",
        "\n",
        "    Args:\n",
        "        data (np.ndarray): The normalized time series data.\n",
        "        seq_length (int): The sequence length (number of past months to consider).\n",
        "\n",
        "    Returns:\n",
        "        Tuple: (X, y) where:\n",
        "               X -> Input sequences of shape (samples, seq_length)\n",
        "               y -> Corresponding target values\n",
        "    \"\"\"\n",
        "    # Initialize empty lists for sequences (X) and targets (y)\n",
        "    sequences, targets = [], []\n",
        "\n",
        "    # Iterate through data to create sequences\n",
        "    for i in range(len(data) - seq_length):\n",
        "        # Append a sequence of length `seq_length` to X\n",
        "        sequences.append(data[i:i+seq_length])\n",
        "\n",
        "        # Append the next value (target) to y\n",
        "        targets.append(data[i+seq_length])\n",
        "\n",
        "    # Convert lists to PyTorch tensors and return them\n",
        "    return torch.tensor(sequences, dtype=torch.float32), torch.tensor(targets, dtype=torch.float32)\n",
        "\n"
      ],
      "metadata": {
        "id": "dP8smc3c0kCv"
      },
      "execution_count": null,
      "outputs": []
    },
    {
      "cell_type": "code",
      "source": [
        "# Create Sequences\n",
        "seq_length = 12  # Using past 12 months as input\n",
        "X, y = create_sequences(normalized_data, seq_length)"
      ],
      "metadata": {
        "colab": {
          "base_uri": "https://localhost:8080/"
        },
        "id": "hOKvdiuhpLs6",
        "outputId": "b32f1295-77b1-4937-80ed-bf4aff20e25a"
      },
      "execution_count": null,
      "outputs": [
        {
          "output_type": "stream",
          "name": "stderr",
          "text": [
            "<ipython-input-5-fdf5bcfe933c>:28: UserWarning: Creating a tensor from a list of numpy.ndarrays is extremely slow. Please consider converting the list to a single numpy.ndarray with numpy.array() before converting to a tensor. (Triggered internally at /pytorch/torch/csrc/utils/tensor_new.cpp:254.)\n",
            "  return torch.tensor(sequences, dtype=torch.float32), torch.tensor(targets, dtype=torch.float32)\n"
          ]
        }
      ]
    },
    {
      "cell_type": "markdown",
      "source": [
        "# **Step 02: Define RNN Model**\n"
      ],
      "metadata": {
        "id": "vyr66jpGO0f1"
      }
    },
    {
      "cell_type": "markdown",
      "source": [
        "* Define the RNN model using [PyTorch](https://pytorch.org/docs/stable/index.html), a renowned tensor library for deep learning using GPUs and CPUs."
      ],
      "metadata": {
        "id": "x8oi9IAbqEQg"
      }
    },
    {
      "cell_type": "code",
      "source": [
        "import torch.nn as nn\n",
        "\n",
        "class AirPassengersRNN(nn.Module):\n",
        "    \"\"\"\n",
        "    Defines an RNN model for time series forecasting.\n",
        "    \"\"\"\n",
        "    def __init__(self, input_size=1, hidden_size=64, num_layers=2):\n",
        "        super(AirPassengersRNN, self).__init__()\n",
        "\n",
        "        # Define the RNN layer (use nn.RNN)\n",
        "        self.hidden_size = hidden_size\n",
        "        self.num_layers = num_layers\n",
        "\n",
        "        self.rnn = nn.RNN(input_size, hidden_size, num_layers, batch_first=True)\n",
        "\n",
        "        # Define the final fully connected layer (use nn.Linear)\n",
        "        self.fc = nn.Linear(hidden_size, 1)\n",
        "\n",
        "    def forward(self, x):\n",
        "        # Initialize hidden state (h0) as a zero tensor\n",
        "        h0 = torch.zeros(self.num_layers, x.size(0), self.hidden_size)\n",
        "\n",
        "        # Pass the input through the RNN layer\n",
        "        out, _ = self.rnn(x, h0)\n",
        "\n",
        "        # Pass the last time step's output through the fully connected layer\n",
        "        out = self.fc(out[:, -1, :])\n",
        "\n",
        "        # Return output\n",
        "        return out\n",
        "\n",
        "\n",
        "\n"
      ],
      "metadata": {
        "id": "Wp7GwuWbPRbm"
      },
      "execution_count": null,
      "outputs": []
    },
    {
      "cell_type": "markdown",
      "source": [
        "# **Step 03: Train the Model**\n",
        "* Train the RNN model using Mean Squared Error (MSE) Loss and Adam optimizer.\n",
        "* The model learns patterns in the dataset over multiple epochs."
      ],
      "metadata": {
        "id": "fm2PQTebRR17"
      }
    },
    {
      "cell_type": "code",
      "source": [
        "import torch.optim as optim\n",
        "\n",
        "def train_model(model, X_train, y_train, num_epochs=100, learning_rate=0.001):\n",
        "    \"\"\"\n",
        "    Trains the model (RNN or LSTM).\n",
        "\n",
        "    Args:\n",
        "        model: The RNN or LSTM model.\n",
        "        X_train (Tensor): Training input sequences.\n",
        "        y_train (Tensor): Corresponding targets.\n",
        "        num_epochs (int): Number of training epochs.\n",
        "        learning_rate (float): Learning rate for optimization.\n",
        "\n",
        "    Returns:\n",
        "        None\n",
        "    \"\"\"\n",
        "    # Define the loss function (use nn.MSELoss())\n",
        "    criterion = nn.MSELoss()\n",
        "\n",
        "    # Define the optimizer (use optim.Adam())\n",
        "    optimizer = optim.Adam(model.parameters(), lr=learning_rate)\n",
        "\n",
        "    # Training loop\n",
        "    for epoch in range(num_epochs):\n",
        "        # Zero gradients\n",
        "        optimizer.zero_grad()\n",
        "\n",
        "        # Forward pass\n",
        "        output = model(X_train)\n",
        "\n",
        "        # Compute loss\n",
        "        loss = criterion(output, y_train)\n",
        "\n",
        "        # Backpropagation\n",
        "        loss.backward()\n",
        "\n",
        "        # Update weights\n",
        "        optimizer.step()\n",
        "\n",
        "        # Print loss every 10 epochs\n",
        "        if (epoch+1) % 10 == 0:\n",
        "            print(f'Epoch [{epoch+1}/{num_epochs}], Loss: {loss.item():.4f}')\n",
        "\n"
      ],
      "metadata": {
        "id": "UdLsDXz5RTra"
      },
      "execution_count": null,
      "outputs": []
    },
    {
      "cell_type": "code",
      "source": [
        "# Split Data into Train/Test Sets\n",
        "train_size = int(len(X) * 0.8)\n",
        "X_train, y_train = X[:train_size], y[:train_size]\n",
        "X_test, y_test = X[train_size:], y[train_size:]\n",
        "\n",
        "\n",
        "\n",
        "# Initialize and Train Model\n",
        "model = AirPassengersRNN()\n",
        "train_model(model, X_train, y_train)"
      ],
      "metadata": {
        "colab": {
          "base_uri": "https://localhost:8080/"
        },
        "id": "SIXeNl80pUpR",
        "outputId": "766db01e-0aa7-4765-a4aa-036ef89b08b0"
      },
      "execution_count": null,
      "outputs": [
        {
          "output_type": "stream",
          "name": "stdout",
          "text": [
            "Epoch [10/100], Loss: 0.0262\n",
            "Epoch [20/100], Loss: 0.0218\n",
            "Epoch [30/100], Loss: 0.0158\n",
            "Epoch [40/100], Loss: 0.0080\n",
            "Epoch [50/100], Loss: 0.0064\n",
            "Epoch [60/100], Loss: 0.0060\n",
            "Epoch [70/100], Loss: 0.0052\n",
            "Epoch [80/100], Loss: 0.0048\n",
            "Epoch [90/100], Loss: 0.0045\n",
            "Epoch [100/100], Loss: 0.0040\n"
          ]
        }
      ]
    },
    {
      "cell_type": "markdown",
      "source": [
        "# **Step 04: Evaluate the Model**\n",
        "* Compute Root Mean Squared Error (RMSE) and plots predictions."
      ],
      "metadata": {
        "id": "siQq3gFxRmix"
      }
    },
    {
      "cell_type": "code",
      "source": [
        "import matplotlib.pyplot as plt\n",
        "import numpy as np\n",
        "import pandas as pd\n",
        "\n",
        "def evaluate_model(model, X_test, y_test, scaler, start_date='1949-01'):\n",
        "    \"\"\"\n",
        "    Computes RMSE and plots predictions against actual values.\n",
        "\n",
        "    Args:\n",
        "        model: Trained PyTorch model.\n",
        "        X_test: Test input data (shape: [n_samples, sequence_length, input_size]).\n",
        "        y_test: Test target data (shape: [n_samples, output_size]).\n",
        "        scaler: Scaler used to inverse transform predictions and actual values.\n",
        "        start_date: Start date for the time axis (e.g., '1949-01').\n",
        "    \"\"\"\n",
        "    model.eval()  # Set the model to evaluation mode\n",
        "\n",
        "    with torch.no_grad():\n",
        "        # Generate predictions\n",
        "        predictions = model(X_test).numpy()\n",
        "\n",
        "    # Inverse transform predictions and actual values\n",
        "    predictions = scaler.inverse_transform(predictions.reshape(-1, 1))\n",
        "    y_test = scaler.inverse_transform(y_test.numpy().reshape(-1, 1))\n",
        "\n",
        "    # Compute RMSE\n",
        "    rmse = np.sqrt(np.mean((predictions - y_test) ** 2))\n",
        "    print(f'RMSE: {rmse:.4f}\\n')\n",
        "\n",
        "    # Create date range for the test set\n",
        "    dates = pd.date_range(start=start_date, periods=len(y_test), freq='M')\n",
        "\n",
        "    # Plot actual vs predicted values\n",
        "    plt.figure(figsize=(10, 6))\n",
        "    plt.plot(dates, y_test, label='Actual', color='blue')\n",
        "    plt.plot(dates, predictions, label='Predicted', color='red', linestyle='--')\n",
        "    plt.xlabel('Time (Months)')\n",
        "    plt.ylabel('Number of Passengers')\n",
        "    plt.title('Actual vs Predicted Passengers')\n",
        "    plt.legend()\n",
        "    plt.grid(True)\n",
        "    plt.show()\n"
      ],
      "metadata": {
        "collapsed": true,
        "id": "VrwtSqGAl2OX"
      },
      "execution_count": null,
      "outputs": []
    },
    {
      "cell_type": "code",
      "source": [
        "# Evaluate the model\n",
        "evaluate_model(model, X_test, y_test, scaler, start_date='1949-01')"
      ],
      "metadata": {
        "colab": {
          "base_uri": "https://localhost:8080/",
          "height": 633
        },
        "id": "g1XuEye9mObI",
        "outputId": "5b580bd9-d84f-4161-973c-e6e6c806a3df"
      },
      "execution_count": null,
      "outputs": [
        {
          "output_type": "stream",
          "name": "stdout",
          "text": [
            "RMSE: 59.5618\n",
            "\n"
          ]
        },
        {
          "output_type": "stream",
          "name": "stderr",
          "text": [
            "<ipython-input-10-99e2c176d4ae>:31: FutureWarning: 'M' is deprecated and will be removed in a future version, please use 'ME' instead.\n",
            "  dates = pd.date_range(start=start_date, periods=len(y_test), freq='M')\n"
          ]
        },
        {
          "output_type": "display_data",
          "data": {
            "text/plain": [
              "<Figure size 1000x600 with 1 Axes>"
            ],
            "image/png": "[encoded data removed]"
          },
          "metadata": {}
        }
      ]
    },
    {
      "cell_type": "markdown",
      "source": [
        "If you want to explore RNNs, here is a [Tensorflow implementation of a Text Generator](https://www.geeksforgeeks.org/introduction-to-recurrent-neural-network/) leveraging the same."
      ],
      "metadata": {
        "id": "oncLr3n1QPwg"
      }
    }
  ]
}